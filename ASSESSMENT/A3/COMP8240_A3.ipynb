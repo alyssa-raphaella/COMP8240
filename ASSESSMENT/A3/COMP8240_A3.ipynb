{
  "nbformat": 4,
  "nbformat_minor": 0,
  "metadata": {
    "colab": {
      "name": "COMP8240_A3.ipynb",
      "provenance": [],
      "collapsed_sections": []
    },
    "kernelspec": {
      "name": "python3",
      "display_name": "Python 3"
    }
  },
  "cells": [
    {
      "cell_type": "code",
      "metadata": {
        "id": "Zg-YW_JBUKdc"
      },
      "source": [
        "import pandas as pd\n",
        "import numpy as np\n",
        "from sklearn.metrics import cohen_kappa_score"
      ],
      "execution_count": 23,
      "outputs": []
    },
    {
      "cell_type": "code",
      "metadata": {
        "id": "UYmuGA2VUf4Q"
      },
      "source": [
        "data = pd.read_csv(\"tweets.csv\", header=None)#, names = [\"annotate1\", \"annotate2\", \"tweet\"])"
      ],
      "execution_count": 19,
      "outputs": []
    },
    {
      "cell_type": "code",
      "metadata": {
        "id": "wyge96GOqOpc"
      },
      "source": [
        "pos = [0, 0, 0]\n",
        "neg = [0, 0, 0]\n",
        "neu = [0, 0, 0]\n",
        "\n",
        "for a, b in zip(data[0], data[1]):\n",
        "  if a == b:\n",
        "    if a == \"Positive\":\n",
        "      pos[0] = pos[0] + 1\n",
        "    elif a == \"Negative\":\n",
        "      neg[1] = neg[1] + 1\n",
        "    else:\n",
        "      neu[2] = neu[2] + 1\n",
        "  elif a == \"Positive\":\n",
        "    if b == \"Negative\":\n",
        "      neg[0] = neg[0] + 1\n",
        "    else:\n",
        "      neu[0] = neu[0] + 1\n",
        "  elif a == \"Negative\":\n",
        "    if b == \"Positive\":\n",
        "      pos[1] = pos[1] + 1\n",
        "    else:\n",
        "      neu[1] = neu[1] + 1\n",
        "  else:\n",
        "    if b == \"Postive\":\n",
        "      pos[2] = pos[2] + 1\n",
        "    else:\n",
        "      neg[2] = neg[2] + 1"
      ],
      "execution_count": null,
      "outputs": []
    },
    {
      "cell_type": "code",
      "metadata": {
        "id": "4X2t3W6evkUo",
        "outputId": "d46fec14-438d-4b4d-b9f0-5be583031c03",
        "colab": {
          "base_uri": "https://localhost:8080/",
          "height": 34
        }
      },
      "source": [
        "total = []\n",
        "for cnt in range(3):\n",
        "  total.append(pos[cnt] + neg[cnt] + neu[cnt])"
      ],
      "execution_count": 55,
      "outputs": [
        {
          "output_type": "execute_result",
          "data": {
            "text/plain": [
              "[25, 7, 18]"
            ]
          },
          "metadata": {
            "tags": []
          },
          "execution_count": 55
        }
      ]
    },
    {
      "cell_type": "code",
      "metadata": {
        "id": "asHjvzZ49nt9"
      },
      "source": [
        "obs = [pos[0]/50, neg[1]/50, neu[2]/50]\n",
        "exp = []"
      ],
      "execution_count": 98,
      "outputs": []
    },
    {
      "cell_type": "code",
      "metadata": {
        "id": "AjapffZwmNXh",
        "outputId": "52cdf9c9-7a9f-4786-d306-260f2f6b2b6f",
        "colab": {
          "base_uri": "https://localhost:8080/",
          "height": 195
        }
      },
      "source": [
        "combi = np.array([pos, neg, neu, total, obs])\n",
        "columns = [\"Positive_anno1\", \"Negative_anno1\", \"Neutral_anno1\"]\n",
        "rows = [\"Positive_anno2\", \"Negative_anno2\", \"Neutral_anno2\", \"Total\", \"Observed Agreement\"]\n",
        "\n",
        "count_df = pd.DataFrame(data = combi, index = rows, columns = columns)\n",
        "count_df[\"Total\"] = count_df.sum(axis = 1)\n",
        "count_df"
      ],
      "execution_count": 104,
      "outputs": [
        {
          "output_type": "execute_result",
          "data": {
            "text/html": [
              "<div>\n",
              "<style scoped>\n",
              "    .dataframe tbody tr th:only-of-type {\n",
              "        vertical-align: middle;\n",
              "    }\n",
              "\n",
              "    .dataframe tbody tr th {\n",
              "        vertical-align: top;\n",
              "    }\n",
              "\n",
              "    .dataframe thead th {\n",
              "        text-align: right;\n",
              "    }\n",
              "</style>\n",
              "<table border=\"1\" class=\"dataframe\">\n",
              "  <thead>\n",
              "    <tr style=\"text-align: right;\">\n",
              "      <th></th>\n",
              "      <th>Positive_anno1</th>\n",
              "      <th>Negative_anno1</th>\n",
              "      <th>Neutral_anno1</th>\n",
              "      <th>Total</th>\n",
              "    </tr>\n",
              "  </thead>\n",
              "  <tbody>\n",
              "    <tr>\n",
              "      <th>Positive_anno2</th>\n",
              "      <td>14.00</td>\n",
              "      <td>0.0</td>\n",
              "      <td>0.00</td>\n",
              "      <td>14.00</td>\n",
              "    </tr>\n",
              "    <tr>\n",
              "      <th>Negative_anno2</th>\n",
              "      <td>5.00</td>\n",
              "      <td>5.0</td>\n",
              "      <td>10.00</td>\n",
              "      <td>20.00</td>\n",
              "    </tr>\n",
              "    <tr>\n",
              "      <th>Neutral_anno2</th>\n",
              "      <td>6.00</td>\n",
              "      <td>2.0</td>\n",
              "      <td>8.00</td>\n",
              "      <td>16.00</td>\n",
              "    </tr>\n",
              "    <tr>\n",
              "      <th>Total</th>\n",
              "      <td>25.00</td>\n",
              "      <td>7.0</td>\n",
              "      <td>18.00</td>\n",
              "      <td>50.00</td>\n",
              "    </tr>\n",
              "    <tr>\n",
              "      <th>Observed Agreement</th>\n",
              "      <td>0.28</td>\n",
              "      <td>0.1</td>\n",
              "      <td>0.16</td>\n",
              "      <td>0.54</td>\n",
              "    </tr>\n",
              "  </tbody>\n",
              "</table>\n",
              "</div>"
            ],
            "text/plain": [
              "                    Positive_anno1  Negative_anno1  Neutral_anno1  Total\n",
              "Positive_anno2               14.00             0.0           0.00  14.00\n",
              "Negative_anno2                5.00             5.0          10.00  20.00\n",
              "Neutral_anno2                 6.00             2.0           8.00  16.00\n",
              "Total                        25.00             7.0          18.00  50.00\n",
              "Observed Agreement            0.28             0.1           0.16   0.54"
            ]
          },
          "metadata": {
            "tags": []
          },
          "execution_count": 104
        }
      ]
    },
    {
      "cell_type": "code",
      "metadata": {
        "id": "hC_Sa00dwpck",
        "outputId": "25577d46-5802-4019-8beb-cbb9cb89ebd4",
        "colab": {
          "base_uri": "https://localhost:8080/",
          "height": 34
        }
      },
      "source": [
        "Ao = (pos[0] + neg[1] + neu[2])/50\n",
        "Ao"
      ],
      "execution_count": 63,
      "outputs": [
        {
          "output_type": "execute_result",
          "data": {
            "text/plain": [
              "0.54"
            ]
          },
          "metadata": {
            "tags": []
          },
          "execution_count": 63
        }
      ]
    },
    {
      "cell_type": "code",
      "metadata": {
        "id": "IdzsMqFb0QU8",
        "outputId": "17eca549-2604-4521-fe5a-f03ed6ea3f1c",
        "colab": {
          "base_uri": "https://localhost:8080/",
          "height": 225
        }
      },
      "source": [
        "anno1 = []\n",
        "anno2 = []\n",
        "prod = []\n",
        "\n",
        "for p2 in count_df[\"Total\"]:\n",
        "  anno2.append(p2/50)\n",
        "del anno2[-2]\n",
        "\n",
        "for p1 in total:\n",
        "  anno1.append(p1/50)\n",
        "\n",
        "for p1, p2 in zip(anno1, anno2):\n",
        "  prod.append(p1 * p2)\n",
        "prod.append(sum(prod))\n",
        "\n",
        "count_df.loc[\"Expected Agreement\"] = prod\n",
        "count_df"
      ],
      "execution_count": 108,
      "outputs": [
        {
          "output_type": "execute_result",
          "data": {
            "text/html": [
              "<div>\n",
              "<style scoped>\n",
              "    .dataframe tbody tr th:only-of-type {\n",
              "        vertical-align: middle;\n",
              "    }\n",
              "\n",
              "    .dataframe tbody tr th {\n",
              "        vertical-align: top;\n",
              "    }\n",
              "\n",
              "    .dataframe thead th {\n",
              "        text-align: right;\n",
              "    }\n",
              "</style>\n",
              "<table border=\"1\" class=\"dataframe\">\n",
              "  <thead>\n",
              "    <tr style=\"text-align: right;\">\n",
              "      <th></th>\n",
              "      <th>Positive_anno1</th>\n",
              "      <th>Negative_anno1</th>\n",
              "      <th>Neutral_anno1</th>\n",
              "      <th>Total</th>\n",
              "    </tr>\n",
              "  </thead>\n",
              "  <tbody>\n",
              "    <tr>\n",
              "      <th>Positive_anno2</th>\n",
              "      <td>14.00</td>\n",
              "      <td>0.000</td>\n",
              "      <td>0.0000</td>\n",
              "      <td>14.0000</td>\n",
              "    </tr>\n",
              "    <tr>\n",
              "      <th>Negative_anno2</th>\n",
              "      <td>5.00</td>\n",
              "      <td>5.000</td>\n",
              "      <td>10.0000</td>\n",
              "      <td>20.0000</td>\n",
              "    </tr>\n",
              "    <tr>\n",
              "      <th>Neutral_anno2</th>\n",
              "      <td>6.00</td>\n",
              "      <td>2.000</td>\n",
              "      <td>8.0000</td>\n",
              "      <td>16.0000</td>\n",
              "    </tr>\n",
              "    <tr>\n",
              "      <th>Total</th>\n",
              "      <td>25.00</td>\n",
              "      <td>7.000</td>\n",
              "      <td>18.0000</td>\n",
              "      <td>50.0000</td>\n",
              "    </tr>\n",
              "    <tr>\n",
              "      <th>Observed Agreement</th>\n",
              "      <td>0.28</td>\n",
              "      <td>0.100</td>\n",
              "      <td>0.1600</td>\n",
              "      <td>0.5400</td>\n",
              "    </tr>\n",
              "    <tr>\n",
              "      <th>Expected Agreement</th>\n",
              "      <td>0.14</td>\n",
              "      <td>0.056</td>\n",
              "      <td>0.1152</td>\n",
              "      <td>0.3112</td>\n",
              "    </tr>\n",
              "  </tbody>\n",
              "</table>\n",
              "</div>"
            ],
            "text/plain": [
              "                    Positive_anno1  Negative_anno1  Neutral_anno1    Total\n",
              "Positive_anno2               14.00           0.000         0.0000  14.0000\n",
              "Negative_anno2                5.00           5.000        10.0000  20.0000\n",
              "Neutral_anno2                 6.00           2.000         8.0000  16.0000\n",
              "Total                        25.00           7.000        18.0000  50.0000\n",
              "Observed Agreement            0.28           0.100         0.1600   0.5400\n",
              "Expected Agreement            0.14           0.056         0.1152   0.3112"
            ]
          },
          "metadata": {
            "tags": []
          },
          "execution_count": 108
        }
      ]
    },
    {
      "cell_type": "code",
      "metadata": {
        "id": "MfPt1j5o-y0u",
        "outputId": "af5b52ac-7e0d-4d34-edf7-511e6e61e5a1",
        "colab": {
          "base_uri": "https://localhost:8080/",
          "height": 34
        }
      },
      "source": [
        "Ae = sum(prod[0:3])\n",
        "Ae"
      ],
      "execution_count": 112,
      "outputs": [
        {
          "output_type": "execute_result",
          "data": {
            "text/plain": [
              "0.31120000000000003"
            ]
          },
          "metadata": {
            "tags": []
          },
          "execution_count": 112
        }
      ]
    },
    {
      "cell_type": "code",
      "metadata": {
        "id": "WXrfGtL43iHz",
        "outputId": "fb5ae1d3-6f04-4dda-f9f2-86e0c7baf5af",
        "colab": {
          "base_uri": "https://localhost:8080/",
          "height": 254
        }
      },
      "source": [
        "score = [cohen_kappa_score(data[0], data[1]), \"\", \"\", \"\"]\n",
        "count_df.loc[\"Cohen's Kappa\"] = score\n",
        "count_df"
      ],
      "execution_count": 118,
      "outputs": [
        {
          "output_type": "execute_result",
          "data": {
            "text/html": [
              "<div>\n",
              "<style scoped>\n",
              "    .dataframe tbody tr th:only-of-type {\n",
              "        vertical-align: middle;\n",
              "    }\n",
              "\n",
              "    .dataframe tbody tr th {\n",
              "        vertical-align: top;\n",
              "    }\n",
              "\n",
              "    .dataframe thead th {\n",
              "        text-align: right;\n",
              "    }\n",
              "</style>\n",
              "<table border=\"1\" class=\"dataframe\">\n",
              "  <thead>\n",
              "    <tr style=\"text-align: right;\">\n",
              "      <th></th>\n",
              "      <th>Positive_anno1</th>\n",
              "      <th>Negative_anno1</th>\n",
              "      <th>Neutral_anno1</th>\n",
              "      <th>Total</th>\n",
              "    </tr>\n",
              "  </thead>\n",
              "  <tbody>\n",
              "    <tr>\n",
              "      <th>Positive_anno2</th>\n",
              "      <td>14.000000</td>\n",
              "      <td>0</td>\n",
              "      <td>0</td>\n",
              "      <td>14</td>\n",
              "    </tr>\n",
              "    <tr>\n",
              "      <th>Negative_anno2</th>\n",
              "      <td>5.000000</td>\n",
              "      <td>5</td>\n",
              "      <td>10</td>\n",
              "      <td>20</td>\n",
              "    </tr>\n",
              "    <tr>\n",
              "      <th>Neutral_anno2</th>\n",
              "      <td>6.000000</td>\n",
              "      <td>2</td>\n",
              "      <td>8</td>\n",
              "      <td>16</td>\n",
              "    </tr>\n",
              "    <tr>\n",
              "      <th>Total</th>\n",
              "      <td>25.000000</td>\n",
              "      <td>7</td>\n",
              "      <td>18</td>\n",
              "      <td>50</td>\n",
              "    </tr>\n",
              "    <tr>\n",
              "      <th>Observed Agreement</th>\n",
              "      <td>0.280000</td>\n",
              "      <td>0.1</td>\n",
              "      <td>0.16</td>\n",
              "      <td>0.54</td>\n",
              "    </tr>\n",
              "    <tr>\n",
              "      <th>Expected Agreement</th>\n",
              "      <td>0.140000</td>\n",
              "      <td>0.056</td>\n",
              "      <td>0.1152</td>\n",
              "      <td>0.3112</td>\n",
              "    </tr>\n",
              "    <tr>\n",
              "      <th>Cohen's Kappa</th>\n",
              "      <td>0.294479</td>\n",
              "      <td></td>\n",
              "      <td></td>\n",
              "      <td></td>\n",
              "    </tr>\n",
              "  </tbody>\n",
              "</table>\n",
              "</div>"
            ],
            "text/plain": [
              "                    Positive_anno1 Negative_anno1 Neutral_anno1   Total\n",
              "Positive_anno2           14.000000              0             0      14\n",
              "Negative_anno2            5.000000              5            10      20\n",
              "Neutral_anno2             6.000000              2             8      16\n",
              "Total                    25.000000              7            18      50\n",
              "Observed Agreement        0.280000            0.1          0.16    0.54\n",
              "Expected Agreement        0.140000          0.056        0.1152  0.3112\n",
              "Cohen's Kappa             0.294479                                     "
            ]
          },
          "metadata": {
            "tags": []
          },
          "execution_count": 118
        }
      ]
    },
    {
      "cell_type": "code",
      "metadata": {
        "id": "91NS1X-zEfOz"
      },
      "source": [
        "data = pd.read_csv(\"tweets.csv\", header=None, names = [\"annotate1\", \"annotate2\", \"tweet\"])"
      ],
      "execution_count": 120,
      "outputs": []
    },
    {
      "cell_type": "code",
      "metadata": {
        "id": "7ZOGJvPd6P5l"
      },
      "source": [
        "count_df.to_csv(\"Cohen_Kappa.csv\",header=True, index=True)\n",
        "data.to_csv(\"Survey_Results.csv\",header=True, index=False, encoding='utf-8-sig')"
      ],
      "execution_count": 123,
      "outputs": []
    },
    {
      "cell_type": "markdown",
      "metadata": {
        "id": "7ars6i62FcKV"
      },
      "source": [
        "Created by: Alyssa Lim"
      ]
    }
  ]
}