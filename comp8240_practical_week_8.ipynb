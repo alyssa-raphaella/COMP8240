{
  "nbformat": 4,
  "nbformat_minor": 0,
  "metadata": {
    "colab": {
      "name": "comp8240-practical-week-8.ipynb",
      "provenance": [],
      "collapsed_sections": [],
      "include_colab_link": true
    },
    "kernelspec": {
      "display_name": "Python 3",
      "language": "python",
      "name": "python3"
    },
    "language_info": {
      "codemirror_mode": {
        "name": "ipython",
        "version": 3
      },
      "file_extension": ".py",
      "mimetype": "text/x-python",
      "name": "python",
      "nbconvert_exporter": "python",
      "pygments_lexer": "ipython3",
      "version": "3.7.3"
    }
  },
  "cells": [
    {
      "cell_type": "markdown",
      "metadata": {
        "id": "view-in-github",
        "colab_type": "text"
      },
      "source": [
        "<a href=\"https://colab.research.google.com/github/alyssa-raphaella/COMP8240/blob/master/comp8240_practical_week_8.ipynb\" target=\"_parent\"><img src=\"https://colab.research.google.com/assets/colab-badge.svg\" alt=\"Open In Colab\"/></a>"
      ]
    },
    {
      "cell_type": "markdown",
      "metadata": {
        "id": "4b1zwmSgA4O5"
      },
      "source": [
        "### Practical Week 8: Working with Tweets of Donald Trump"
      ]
    },
    {
      "cell_type": "code",
      "metadata": {
        "id": "j_YJh2J2JKlT"
      },
      "source": [
        "import tweepy"
      ],
      "execution_count": 1,
      "outputs": []
    },
    {
      "cell_type": "markdown",
      "metadata": {
        "id": "a1gzmtSYA4O_"
      },
      "source": [
        "**Task1**: Authentication"
      ]
    },
    {
      "cell_type": "code",
      "metadata": {
        "id": "uKWnHORhA4O_"
      },
      "source": [
        "# Your credentials go here ...\n",
        "\n",
        "consumer_key = 'CfqZfNRTvcHdDRCo23PZt3ETa'\n",
        "consumer_key_secret = '9NVfiSz9tcp2GvLDchPxfh2sNLHKpmUVwfvuxeCPwdjKM14upU'\n",
        "access_token = '1223923047490445312-gNkYAcwaS1HDVmQfi7KF0YJQBpokZW'\n",
        "access_token_secret = 'ZZ5iad8aXQCrvI9NnAzqZxYBTdKHb81WubYeLeAiQ3T8i'\n",
        "\n",
        "auth = tweepy.OAuthHandler(consumer_key, consumer_key_secret)\n",
        "\n",
        "auth.set_access_token(access_token, access_token_secret)\n",
        "\n",
        "api = tweepy.API(auth)"
      ],
      "execution_count": 3,
      "outputs": []
    },
    {
      "cell_type": "code",
      "metadata": {
        "id": "PYfxufoIBHEC",
        "outputId": "6db67adc-e18e-45ab-86dc-cb2fc073b87f",
        "colab": {
          "base_uri": "https://localhost:8080/",
          "height": 54
        }
      },
      "source": [
        "api.update_status(\"Tweepy Test\")"
      ],
      "execution_count": 4,
      "outputs": [
        {
          "output_type": "execute_result",
          "data": {
            "text/plain": [
              "Status(_api=<tweepy.api.API object at 0x7fa168f86d30>, _json={'created_at': 'Wed Sep 30 03:18:40 +0000 2020', 'id': 1311143399186214912, 'id_str': '1311143399186214912', 'text': 'Tweepy Test', 'truncated': False, 'entities': {'hashtags': [], 'symbols': [], 'user_mentions': [], 'urls': []}, 'source': '<a href=\"https://github.com/alyssa-raphaella/Twitter\" rel=\"nofollow\">COMP8230_TwitterTest001</a>', 'in_reply_to_status_id': None, 'in_reply_to_status_id_str': None, 'in_reply_to_user_id': None, 'in_reply_to_user_id_str': None, 'in_reply_to_screen_name': None, 'user': {'id': 1223923047490445312, 'id_str': '1223923047490445312', 'name': 'Alyssa', 'screen_name': '14rg3', 'location': 'Republic of the Philippines', 'description': 'voice inside my head', 'url': None, 'entities': {'description': {'urls': []}}, 'protected': False, 'followers_count': 3, 'friends_count': 16, 'listed_count': 0, 'created_at': 'Sun Feb 02 10:56:17 +0000 2020', 'favourites_count': 6, 'utc_offset': None, 'time_zone': None, 'geo_enabled': False, 'verified': False, 'statuses_count': 4, 'lang': None, 'contributors_enabled': False, 'is_translator': False, 'is_translation_enabled': False, 'profile_background_color': 'F5F8FA', 'profile_background_image_url': None, 'profile_background_image_url_https': None, 'profile_background_tile': False, 'profile_image_url': 'http://pbs.twimg.com/profile_images/1223924771227746304/zPIEVVWk_normal.jpg', 'profile_image_url_https': 'https://pbs.twimg.com/profile_images/1223924771227746304/zPIEVVWk_normal.jpg', 'profile_banner_url': 'https://pbs.twimg.com/profile_banners/1223923047490445312/1580641415', 'profile_link_color': '1DA1F2', 'profile_sidebar_border_color': 'C0DEED', 'profile_sidebar_fill_color': 'DDEEF6', 'profile_text_color': '333333', 'profile_use_background_image': True, 'has_extended_profile': False, 'default_profile': True, 'default_profile_image': False, 'following': False, 'follow_request_sent': False, 'notifications': False, 'translator_type': 'none'}, 'geo': None, 'coordinates': None, 'place': None, 'contributors': None, 'is_quote_status': False, 'retweet_count': 0, 'favorite_count': 0, 'favorited': False, 'retweeted': False, 'lang': 'en'}, created_at=datetime.datetime(2020, 9, 30, 3, 18, 40), id=1311143399186214912, id_str='1311143399186214912', text='Tweepy Test', truncated=False, entities={'hashtags': [], 'symbols': [], 'user_mentions': [], 'urls': []}, source='COMP8230_TwitterTest001', source_url='https://github.com/alyssa-raphaella/Twitter', in_reply_to_status_id=None, in_reply_to_status_id_str=None, in_reply_to_user_id=None, in_reply_to_user_id_str=None, in_reply_to_screen_name=None, author=User(_api=<tweepy.api.API object at 0x7fa168f86d30>, _json={'id': 1223923047490445312, 'id_str': '1223923047490445312', 'name': 'Alyssa', 'screen_name': '14rg3', 'location': 'Republic of the Philippines', 'description': 'voice inside my head', 'url': None, 'entities': {'description': {'urls': []}}, 'protected': False, 'followers_count': 3, 'friends_count': 16, 'listed_count': 0, 'created_at': 'Sun Feb 02 10:56:17 +0000 2020', 'favourites_count': 6, 'utc_offset': None, 'time_zone': None, 'geo_enabled': False, 'verified': False, 'statuses_count': 4, 'lang': None, 'contributors_enabled': False, 'is_translator': False, 'is_translation_enabled': False, 'profile_background_color': 'F5F8FA', 'profile_background_image_url': None, 'profile_background_image_url_https': None, 'profile_background_tile': False, 'profile_image_url': 'http://pbs.twimg.com/profile_images/1223924771227746304/zPIEVVWk_normal.jpg', 'profile_image_url_https': 'https://pbs.twimg.com/profile_images/1223924771227746304/zPIEVVWk_normal.jpg', 'profile_banner_url': 'https://pbs.twimg.com/profile_banners/1223923047490445312/1580641415', 'profile_link_color': '1DA1F2', 'profile_sidebar_border_color': 'C0DEED', 'profile_sidebar_fill_color': 'DDEEF6', 'profile_text_color': '333333', 'profile_use_background_image': True, 'has_extended_profile': False, 'default_profile': True, 'default_profile_image': False, 'following': False, 'follow_request_sent': False, 'notifications': False, 'translator_type': 'none'}, id=1223923047490445312, id_str='1223923047490445312', name='Alyssa', screen_name='14rg3', location='Republic of the Philippines', description='voice inside my head', url=None, entities={'description': {'urls': []}}, protected=False, followers_count=3, friends_count=16, listed_count=0, created_at=datetime.datetime(2020, 2, 2, 10, 56, 17), favourites_count=6, utc_offset=None, time_zone=None, geo_enabled=False, verified=False, statuses_count=4, lang=None, contributors_enabled=False, is_translator=False, is_translation_enabled=False, profile_background_color='F5F8FA', profile_background_image_url=None, profile_background_image_url_https=None, profile_background_tile=False, profile_image_url='http://pbs.twimg.com/profile_images/1223924771227746304/zPIEVVWk_normal.jpg', profile_image_url_https='https://pbs.twimg.com/profile_images/1223924771227746304/zPIEVVWk_normal.jpg', profile_banner_url='https://pbs.twimg.com/profile_banners/1223923047490445312/1580641415', profile_link_color='1DA1F2', profile_sidebar_border_color='C0DEED', profile_sidebar_fill_color='DDEEF6', profile_text_color='333333', profile_use_background_image=True, has_extended_profile=False, default_profile=True, default_profile_image=False, following=False, follow_request_sent=False, notifications=False, translator_type='none'), user=User(_api=<tweepy.api.API object at 0x7fa168f86d30>, _json={'id': 1223923047490445312, 'id_str': '1223923047490445312', 'name': 'Alyssa', 'screen_name': '14rg3', 'location': 'Republic of the Philippines', 'description': 'voice inside my head', 'url': None, 'entities': {'description': {'urls': []}}, 'protected': False, 'followers_count': 3, 'friends_count': 16, 'listed_count': 0, 'created_at': 'Sun Feb 02 10:56:17 +0000 2020', 'favourites_count': 6, 'utc_offset': None, 'time_zone': None, 'geo_enabled': False, 'verified': False, 'statuses_count': 4, 'lang': None, 'contributors_enabled': False, 'is_translator': False, 'is_translation_enabled': False, 'profile_background_color': 'F5F8FA', 'profile_background_image_url': None, 'profile_background_image_url_https': None, 'profile_background_tile': False, 'profile_image_url': 'http://pbs.twimg.com/profile_images/1223924771227746304/zPIEVVWk_normal.jpg', 'profile_image_url_https': 'https://pbs.twimg.com/profile_images/1223924771227746304/zPIEVVWk_normal.jpg', 'profile_banner_url': 'https://pbs.twimg.com/profile_banners/1223923047490445312/1580641415', 'profile_link_color': '1DA1F2', 'profile_sidebar_border_color': 'C0DEED', 'profile_sidebar_fill_color': 'DDEEF6', 'profile_text_color': '333333', 'profile_use_background_image': True, 'has_extended_profile': False, 'default_profile': True, 'default_profile_image': False, 'following': False, 'follow_request_sent': False, 'notifications': False, 'translator_type': 'none'}, id=1223923047490445312, id_str='1223923047490445312', name='Alyssa', screen_name='14rg3', location='Republic of the Philippines', description='voice inside my head', url=None, entities={'description': {'urls': []}}, protected=False, followers_count=3, friends_count=16, listed_count=0, created_at=datetime.datetime(2020, 2, 2, 10, 56, 17), favourites_count=6, utc_offset=None, time_zone=None, geo_enabled=False, verified=False, statuses_count=4, lang=None, contributors_enabled=False, is_translator=False, is_translation_enabled=False, profile_background_color='F5F8FA', profile_background_image_url=None, profile_background_image_url_https=None, profile_background_tile=False, profile_image_url='http://pbs.twimg.com/profile_images/1223924771227746304/zPIEVVWk_normal.jpg', profile_image_url_https='https://pbs.twimg.com/profile_images/1223924771227746304/zPIEVVWk_normal.jpg', profile_banner_url='https://pbs.twimg.com/profile_banners/1223923047490445312/1580641415', profile_link_color='1DA1F2', profile_sidebar_border_color='C0DEED', profile_sidebar_fill_color='DDEEF6', profile_text_color='333333', profile_use_background_image=True, has_extended_profile=False, default_profile=True, default_profile_image=False, following=False, follow_request_sent=False, notifications=False, translator_type='none'), geo=None, coordinates=None, place=None, contributors=None, is_quote_status=False, retweet_count=0, favorite_count=0, favorited=False, retweeted=False, lang='en')"
            ]
          },
          "metadata": {
            "tags": []
          },
          "execution_count": 4
        }
      ]
    },
    {
      "cell_type": "code",
      "metadata": {
        "id": "qR0mexHSA4PD"
      },
      "source": [
        "max_tweets = 150\n",
        "screen_name = 'realDonaldTrump'\n",
        "\n",
        "tweets = api.user_timeline(screen_name = screen_name,\n",
        "                           tweet_mode = 'extended',\n",
        "                           count = max_tweets)"
      ],
      "execution_count": 40,
      "outputs": []
    },
    {
      "cell_type": "code",
      "metadata": {
        "id": "b-Ro8sdyA4PG"
      },
      "source": [
        "import json\n",
        "\n",
        "list_of_dicts = []\n",
        "for json_tweet in tweets:\n",
        "    list_of_dicts.append(json_tweet._json)\n",
        "\n",
        "with open('trump-150-tweets.txt', mode = 'w') as file:\n",
        "        file.write(json.dumps(list_of_dicts, indent = 4))"
      ],
      "execution_count": 41,
      "outputs": []
    },
    {
      "cell_type": "markdown",
      "metadata": {
        "id": "vpGUEdlmA4PI"
      },
      "source": [
        "**Task 1**: Read the file 'trump-150-tweets.txt' that consists of a list of tweets in the form of JSON objects (dictionaries) \n",
        "    into a new list of simpler dictionaries. Each of these simpler dictionaries should contain only the following keys:  'text', 'favorite_count', 'retweet_count' and 'created_at' as shown below."
      ]
    },
    {
      "cell_type": "code",
      "metadata": {
        "id": "zxO--ib8A4PI"
      },
      "source": [
        "new_list = []\n",
        "\n",
        "with open('trump-150-tweets.txt', mode = 'r', encoding = 'utf-8') as file:\n",
        "  list_of_dicts = json.load(file)\n",
        "\n",
        "tweet_list = []\n",
        "for tweet in list_of_dicts:\n",
        "  list_per_tweet = []\n",
        "  text = tweet[\"text\"]\n",
        "  fav_count = tweet[\"favorite_count\"]\n",
        "  rt_count = tweet[\"retweet_count\"]\n",
        "  created_at = tweet[\"created_at\"]\n",
        "  list_per_tweet.extend((text, fav_count, rt_count, created_at))\n",
        "  tweet_list.append(list_per_tweet)"
      ],
      "execution_count": 46,
      "outputs": []
    },
    {
      "cell_type": "code",
      "metadata": {
        "id": "wesXVUfYJzbz",
        "outputId": "cd56f636-309d-4c92-c9a8-887d213aa61f",
        "colab": {
          "base_uri": "https://localhost:8080/",
          "height": 54
        }
      },
      "source": [
        "print(tweet_list[1])"
      ],
      "execution_count": 47,
      "outputs": [
        {
          "output_type": "stream",
          "text": [
            "['My team and I are closely monitoring extremely dangerous Hurricane Sally. We are fully engaged with State &amp; Local L… https://t.co/d4HMwlkpvk', 30345, 6925, 'Tue Sep 15 03:25:01 +0000 2020']\n"
          ],
          "name": "stdout"
        }
      ]
    },
    {
      "cell_type": "markdown",
      "metadata": {
        "id": "YwmzD77AA4PN"
      },
      "source": [
        "**Task 2**: Read the list with the simplified tweets into a pandas DataFrame and display the DataFrame."
      ]
    },
    {
      "cell_type": "code",
      "metadata": {
        "id": "uUYrSs9xKLao",
        "outputId": "ec03b66f-9dc7-494f-a903-093cb4f12a89",
        "colab": {
          "base_uri": "https://localhost:8080/",
          "height": 195
        }
      },
      "source": [
        "import pandas as pd\n",
        "\n",
        "tweet_df = pd.DataFrame(tweet_list, columns = [\"Text\", \"Favorite Count\", \"Retweet Count\", \"Created At\"] )\n",
        "tweet_df.head(5)"
      ],
      "execution_count": 50,
      "outputs": [
        {
          "output_type": "execute_result",
          "data": {
            "text/html": [
              "<div>\n",
              "<style scoped>\n",
              "    .dataframe tbody tr th:only-of-type {\n",
              "        vertical-align: middle;\n",
              "    }\n",
              "\n",
              "    .dataframe tbody tr th {\n",
              "        vertical-align: top;\n",
              "    }\n",
              "\n",
              "    .dataframe thead th {\n",
              "        text-align: right;\n",
              "    }\n",
              "</style>\n",
              "<table border=\"1\" class=\"dataframe\">\n",
              "  <thead>\n",
              "    <tr style=\"text-align: right;\">\n",
              "      <th></th>\n",
              "      <th>Text</th>\n",
              "      <th>Favorite Count</th>\n",
              "      <th>Retweet Count</th>\n",
              "      <th>Created At</th>\n",
              "    </tr>\n",
              "  </thead>\n",
              "  <tbody>\n",
              "    <tr>\n",
              "      <th>0</th>\n",
              "      <td>https://t.co/iVY45x4l4A https://t.co/hx2nwiVoKy</td>\n",
              "      <td>22069</td>\n",
              "      <td>5375</td>\n",
              "      <td>Tue Sep 15 04:07:53 +0000 2020</td>\n",
              "    </tr>\n",
              "    <tr>\n",
              "      <th>1</th>\n",
              "      <td>My team and I are closely monitoring extremely...</td>\n",
              "      <td>30345</td>\n",
              "      <td>6925</td>\n",
              "      <td>Tue Sep 15 03:25:01 +0000 2020</td>\n",
              "    </tr>\n",
              "    <tr>\n",
              "      <th>2</th>\n",
              "      <td>...caused over so many years. Any attack by Ir...</td>\n",
              "      <td>53098</td>\n",
              "      <td>12874</td>\n",
              "      <td>Tue Sep 15 03:04:34 +0000 2020</td>\n",
              "    </tr>\n",
              "    <tr>\n",
              "      <th>3</th>\n",
              "      <td>According to press reports, Iran may be planni...</td>\n",
              "      <td>59694</td>\n",
              "      <td>17166</td>\n",
              "      <td>Tue Sep 15 03:04:33 +0000 2020</td>\n",
              "    </tr>\n",
              "    <tr>\n",
              "      <th>4</th>\n",
              "      <td>RT @SWAtlasHoover: 1/4: I was asked by the Pre...</td>\n",
              "      <td>0</td>\n",
              "      <td>6120</td>\n",
              "      <td>Tue Sep 15 02:52:47 +0000 2020</td>\n",
              "    </tr>\n",
              "  </tbody>\n",
              "</table>\n",
              "</div>"
            ],
            "text/plain": [
              "                                                Text  ...                      Created At\n",
              "0    https://t.co/iVY45x4l4A https://t.co/hx2nwiVoKy  ...  Tue Sep 15 04:07:53 +0000 2020\n",
              "1  My team and I are closely monitoring extremely...  ...  Tue Sep 15 03:25:01 +0000 2020\n",
              "2  ...caused over so many years. Any attack by Ir...  ...  Tue Sep 15 03:04:34 +0000 2020\n",
              "3  According to press reports, Iran may be planni...  ...  Tue Sep 15 03:04:33 +0000 2020\n",
              "4  RT @SWAtlasHoover: 1/4: I was asked by the Pre...  ...  Tue Sep 15 02:52:47 +0000 2020\n",
              "\n",
              "[5 rows x 4 columns]"
            ]
          },
          "metadata": {
            "tags": []
          },
          "execution_count": 50
        }
      ]
    },
    {
      "cell_type": "markdown",
      "metadata": {
        "id": "UeJwBp9_A4PQ"
      },
      "source": [
        "**Task 3**: Generate a list 'text_list' that contains the texts of each tweet and print this list as shown below."
      ]
    },
    {
      "cell_type": "code",
      "metadata": {
        "id": "fqmJXlH2bYYz",
        "outputId": "0072c1bf-23f1-4af4-e3de-4340cb2a02b1",
        "colab": {
          "base_uri": "https://localhost:8080/",
          "height": 1000
        }
      },
      "source": [
        "text_list = tweet_df[\"Text\"].tolist()\n",
        "text_list"
      ],
      "execution_count": 53,
      "outputs": [
        {
          "output_type": "execute_result",
          "data": {
            "text/plain": [
              "['https://t.co/iVY45x4l4A https://t.co/hx2nwiVoKy',\n",
              " 'My team and I are closely monitoring extremely dangerous Hurricane Sally. We are fully engaged with State &amp; Local L… https://t.co/d4HMwlkpvk',\n",
              " '...caused over so many years. Any attack by Iran, in any form, against the United States will be met with an attack… https://t.co/pYUvAIuZb4',\n",
              " 'According to press reports, Iran may be planning an assassination, or other attack, against the United States in re… https://t.co/xWwL2TfdaV',\n",
              " 'RT @SWAtlasHoover: 1/4: I was asked by the President of the United States to help formulate healthcare policy during the biggest healthcare…',\n",
              " 'RT @SteveDaines: An absolute honor to be endorsed by the Crow Tribe and to stand with @VP as he and @realDonaldTrump receive the Crow’s end…',\n",
              " 'RT @SenateGOP: Stronger trade deals. Killing terrorists. National security tools. Justice reform. Coronavirus relief. \\n\\nDemocrats spent the…',\n",
              " 'Left California for Arizona. Leaving Arizona after a GREAT meeting with our incredible Hispanic community. Heard fa… https://t.co/jJAVAsPpaF',\n",
              " 'Did you see where Joe Biden — as Weak, Tired, and Sleepy as he is, went to a Polling Place today in Delaware (of co… https://t.co/Y5Vg3JiEAs',\n",
              " '...of the Ballots in Nevada!? Not fair, Rigged Election! @GovSisolak, will use every trick in the book to cheat with Ballots.',\n",
              " 'We had great rallies this past weekend, after the Governor of Nevada worked very hard to cancel all of our venues.… https://t.co/O0PXEIdMmS',\n",
              " 'We could all learn something from this. Great interview by @HerschelWalker! https://t.co/6nWDRx7opG',\n",
              " 'Just landed in the Great State of Arizona! https://t.co/c2ilTbkLva',\n",
              " '“Players take knee, raise fist, stay in locker room, during National Anthem”. @FoxNews No thanks, tell them to “protest” some other time!',\n",
              " \"RT @6abc: #BREAKING Federal judge rules Gov. Tom Wolf's pandemic restrictions are unconstitutional\\nhttps://t.co/8QHzF3qCFf\",\n",
              " 'RT @KDKA: \"Governor Tom Wolf should not be allowed to defraud the people of the United States!\" President Donald Trump tweeted his concerns…',\n",
              " 'RT @WNEP: BREAKING: A federal judge on Monday struck down Gov. Tom Wolf’s pandemic restrictions that required people to stay at home, place…',\n",
              " 'RT @NicoleFordTV: BREAKING: A federal judge has ruled that the states shutdown orders and business closures this spring were unconstitution…',\n",
              " 'RT @CarlHigbie: Flagging for you \\u2066@NedLamont\\u2069 and \\u2066@fcamillo\\u2069\\n\\nFederal Judge Rules Pa.’s Shutdown Orders Unconstitutional; Wolf Administrat…',\n",
              " 'RT @JohnFavere: PENNSYLVANIA GOVERNOR TOM WOLF  AN YOUR STUPID WIFE .....YOUR NOT GOING TO MURDER US !!! TRUMP 2020 ... WE LOVE PENNSYLVANI…',\n",
              " 'RT @Thomas1774Paine: TYRANTS RULED UNCONSTITUTIONAL!! Federal Judge Rules Gov. Tom Wolf, Dr. Rachel Levine’s Shutdown Orders Unconstitution…',\n",
              " 'RT @duty2warn: Federal Judge Rules Gov Tom Wolf’s PA Shutdown Orders Unconstitutional; “U.S. District Judge William Stickman IV, an appoint…',\n",
              " 'RT @NBCPhiladelphia: BREAKING: A federal judge has ruled that capacity limits on gatherings and other restrictions designed to stop the spr…',\n",
              " '....And Michigan, and North Carolina. Next up, phony Ballot voting Hoax! https://t.co/rXVi4H8fG2',\n",
              " 'RT @stacey_rudin: Huge news: the federal courts are coming to save us!! \\n\\n“Stay at home” orders and limitations on businesses are UNCONSTIT…',\n",
              " 'RT @abc27News: Four Western Pennsylvania counties – Butler, Green, Fayette, and Washington, filed a lawsuit claiming that Governor Tom Wolf…',\n",
              " 'RT @LarrySchweikart: A federal judge in Pittsburgh on Monday found that orders issued by Gov. Tom Wolf restricting the size of gatherings a…',\n",
              " 'RT @MikeKellyforPA: #PA16 #Economy #JobGrowth\\n\\nhttps://t.co/UuaiIfTcfE',\n",
              " 'RT @MikeKellyforPA: Biden finally said something that @realdonaldtrump and I can agree with... ‘I can beat Joe Biden’.  https://t.co/Vy2cLW…',\n",
              " 'Great News, Mike! https://t.co/E0IHPAncn7',\n",
              " 'RT @Mike_Pence: Life is Winning in America! And to keep on winning we need to re-elect pro-life Conservatives like @MikeKellyPA and @RepJoh…',\n",
              " \"RT @AJKayWriter: PA Governor's shut down orders ruled unconstitutional.  \\n\\nThis is big. \\n\\nhttps://t.co/ngh1brVVDo\",\n",
              " 'RT @PhillyInquirer: A federal judge has ruled that key components of Gov. Tom Wolf’s coronavirus mitigation strategy are unconstitutional,…',\n",
              " 'Next up, the Ballot Hoax! https://t.co/tPV9ncMKEf',\n",
              " 'RT @SaraCarterDC: #BREAKING PA Gov. Tom Wolf’s #COVID-19 Restrictions Were Unconstitutional, Federal Judge Rules\\n\\nhttps://t.co/arsJv2U4sh',\n",
              " \"RT @joshdcaplan: HARRISBURG, P.A. (AP) — Federal judge rules that Pennsylvania Gov. Tom Wolf's pandemic restrictions are unconstitutional.\",\n",
              " \"RT @KDKA: #BREAKING NEWS: A federal judge has ruled that Gov. Tom Wolf and Dr. Rachel Levine's shutdown order and business closures were un…\",\n",
              " 'RT @CBSPhilly: JUST IN: A federal judge on Monday struck down Gov. Tom Wolf’s pandemic restrictions that required people to stay at home, p…',\n",
              " 'Congratulations Pennsylvania. Now we await the decision on the Rigged Ballot Scam, which is so bad for our Country! https://t.co/IoqhQedPey',\n",
              " 'RT @Jim_Jordan: If Joe Biden can find the correct polling station and vote in person, ANYBODY can vote in person.',\n",
              " 'Rasmussen was one of the most accurate polls in 2016. Actually, I think, based on Crowds and Enthusiasm (of which S… https://t.co/xkK5OJtJxe',\n",
              " 'RT @PollWatch2020: Presidential approval on September 14 of respective re-election years according to Rasmussen Reports:\\n\\nTrump (2020): 51%…',\n",
              " \"RT @JoeTalkShow: Ron Johnson is trending because he's made it clear he will inform us about Joe Biden. The left here is freaking about beca…\",\n",
              " 'RT @StarTribune: Republican Sen. Ron Johnson of Wisconsin said President Trump deserves to win more than one Nobel Peace Prize for his “lea…',\n",
              " 'RT @Thomas1774Paine: ICYMI - Drudge’s Historic Crash Hits Rock Bottom; Numbers from Turbulent August Tank https://t.co/XCjBupEkh5',\n",
              " 'She should be ashamed of herself! https://t.co/wwuoP8mMIc',\n",
              " 'Today, it was my profound honor to award seven extraordinary soldiers the Distinguished Flying Cross for their rema… https://t.co/da3SyuF9oG',\n",
              " 'https://t.co/O9GWPJtR5p',\n",
              " 'https://t.co/jBR4RR1w8c',\n",
              " 'https://t.co/x9QVfnl6Pk',\n",
              " 'I didn’t know there would be even a question about this! https://t.co/QVZn2A7PYc',\n",
              " 'ABC’s Trump In Trouble Poll Surveyed Just 533, Not Likely Voters, Asked Over 20% More Biden Supporters Than Conserv… https://t.co/Y0KJFn0OT3',\n",
              " 'https://t.co/UXQpB87t87',\n",
              " 'Our people have all left Drudge. He is a confused MESS, has no clue what happened. Down 51%. @DRUDGE  They like REVOLVER and others!',\n",
              " 'Great, Just Out! 51% Approval Rating in Rasmussen Poll. 95% in Republican Party. Stock Market up BIG today. Will I… https://t.co/5CumgGNPXm',\n",
              " 'RT @GOPChairwoman: The this is a total smear campaign against @realDonaldTrump. His opponents have been waging one since before he was elec…',\n",
              " \"RT @ByronYork: Princeton University group studies 3 months of Black Lives Matter protests. Intent is to show they are 'overwhelmingly peace…\",\n",
              " 'RT @LouDobbs: Biden Megadonor Owns The Atlantic, Reportedly Communicates Often With Journalist Behind Anonymously-Sourced Trump Bombshell h…',\n",
              " 'RT @DonaldJTrumpJr: When two dozen phones belonging to Robert Mueller’s crooked henchmen magically all get erased how is anyone supposed to…',\n",
              " \"RT @boriquagato: this has been a deliberate attempt to make data that was not scary look scary.\\n\\nwhile we're on that topic, the other big d…\",\n",
              " 'RT @HansMahncke: \"The press has dropped, in my view - and I\\'m talking about the national mainstream media - has dropped any pretense of pro…',\n",
              " 'A made up HOAX that shows how low they are willing to go! https://t.co/wtXOhulfaO',\n",
              " 'RT @MZHemingway: Big Media relentlessly pushed the world-damaging Russia collusion conspiracy hoax. They may be the last people on earth wh…',\n",
              " 'I am helping Minnesota greatly. OBiden was a Minnesota disaster! https://t.co/jY5UR64vkf',\n",
              " 'His handlers and the Fake News Media are doing everything possible to get him through the Election. Then he will re… https://t.co/R6kiwd0F26',\n",
              " 'RT @ArthurSchwartz: I don’t want to hear another damn word from Stelter, Tapper, Rucker et al. about the critical role they play as guardia…',\n",
              " 'Pathetic! https://t.co/pncz3G0hg3',\n",
              " 'Push it hard Marsha. DOJ must act. This should include Crooked Hillary’s illegal deletion of her emails. SPEED! https://t.co/9ezIhnyPSC',\n",
              " '...And we’re not finished yet. All coming together like a highly complex, but beautiful, puzzle! https://t.co/3MRItgdhtk',\n",
              " 'RT @pnjaban: Hospital industry lobbyists who gave $1m+ to @andrewcuomo convinced him to send thousands of grandparents to their deaths in o…',\n",
              " 'No, riots and looting are just fine with Concast! https://t.co/RcQhv5c4OU',\n",
              " \"RT @Avik: So @YouTube just took down a June 23 interview that Scott Atlas (@SWAtlasHoover) did with his employer, Stanford's @HooverInst, b…\",\n",
              " 'RT @Avik: Antitrust jurisprudence and regulation in the U.S. needs to be modernized on many fronts, especially to tackle the problem of mul…',\n",
              " 'RT @MZHemingway: Big Tech is utterly terrifying right now. The World Health Organization is not our master and they are dangerously wrong w…',\n",
              " 'RT @redsteeze: Members of Biden’s campaign bailed out rioters in Minneapolis. His running mate solicited donations to the group doing this.…',\n",
              " \"RT @IvanPentchoukov: I just collated the data from the four Special Counsel's Office (SCO) iPhone inventory logs, equipment return logs, et…\",\n",
              " 'RT @IvanPentchoukov: 2—Four of the phone IDs appear in the inventory logs but are either missing or marked as \"N/A\" in the records officer\\'…',\n",
              " 'RT @DonaldJTrumpJr: Imagine what these crooks would have done to the people they were investing in their hoax had they done the same!',\n",
              " 'He’s BOTH! https://t.co/MLS8OySh6N',\n",
              " 'RT @JunkScience: California has a long history of megadroughts that pre-date SUVs.\\n\\nPeople can either manage forests intelligently or natur…',\n",
              " 'DOJ? https://t.co/iPpptrlMzy',\n",
              " 'RT @nedryun: Because he deserved to be ridiculed.',\n",
              " 'I do! https://t.co/H9Eghnqpuy',\n",
              " 'Action must be taken! https://t.co/ELlsxLld8a',\n",
              " 'RT @DailyCaller: .@RichardGrenell rips @SpeakerPelosi: \\n\\n“Their rules allow them to go to San Francisco, get their hair done, and then they…',\n",
              " 'Biden Handlers know this is a lie! https://t.co/QKLEkpb2ig',\n",
              " 'RT @Lrihendry: In a democrat America rioting and looting are acceptable. Going down an aisle the wrong way in Publix without a mask is an a…',\n",
              " 'RT @EricTrump: Good things happen to great people who have backbone &amp; conviction! On Friday, Erica Enders added #WomenForTrump to both side…',\n",
              " 'RT @paulsperry_: DEVELOPING: Investigators have learned that Obama CIA Director John Brennan ran a secret task force out of Langley with it…',\n",
              " 'RT @HerschelWalker: Shame on @KamalaHarris not visiting 911 Caller in WI! As AG in SF, a judge had to intervene for her violating a defenda…',\n",
              " 'RT @jacobkschneider: This is incredible https://t.co/5LcL0X6EPH',\n",
              " 'RT @realDonaldTrump: We will be substantially LOWERING Medicare Premiums and Prescription Drug Prices, bringing them down to levels that we…',\n",
              " 'RT @GOPChairwoman: From Israel-UAE to Serbia-Kosovo, @realDonaldTrump has accomplished more for peace in the last month than President Obam…',\n",
              " 'RT @SidneyPowell1: Dear .@jack, Why has @Twitter stopped allowing me new followers?\\nYour blatant censorship of #Conservatives is election i…',\n",
              " 'RT @JackPosobiec: Trump banned Critical Race Theory, told off the Military Industrial Complex, announced he’s bringing the troops home, got…',\n",
              " 'RT @realDonaldTrump: Volunteer to be a Trump Election Poll Watcher. Sign up today!\\n#MakeAmericaGreatAgain\\nhttps://t.co/aYYsyWFDIw',\n",
              " \"RT @LouDobbs: Thanks for your kind words Rudy, and for all you've done for the nation and @POTUS! #MAGA #AmericaFirst\",\n",
              " 'https://t.co/WuLi07jXaK',\n",
              " 'RT @RudyGiuliani: It’s clear Robert Mueller was in no condition to run his investigation — so who did?\\n\\nThis is the same CON the Democrats…',\n",
              " 'https://t.co/qZ1OCJznjL',\n",
              " 'RT @LouDobbs: Deep State Misconduct:  @TomFitton calls for a criminal investigation into Mueller’s special counsel team for potentially obs…',\n",
              " 'RT @realDonaldTrump: I was right, these people were all wrong, and now they criticize me. Such hypocrisy! https://t.co/sztQ7h5T4M',\n",
              " 'RT @jasoninthehouse: Fraternal Order of Police endorses Trump in 2020 race\\n\\nhttps://t.co/UsYCZoiiil',\n",
              " 'RT @jasoninthehouse: So true',\n",
              " 'RT @johnrobertsFox: Israel strikes its second peace deal with an Arab nation in the past month. First the UAE, now Bahrain.  Previous Admin…',\n",
              " 'RT @jasoninthehouse: It should dominate the news',\n",
              " 'RT @jasoninthehouse: Huge story, if true. Worthy of serious investigation.',\n",
              " 'RT @BurgessOwens: I am not a token. I am just part of a movement that will be seen loud and clear on election day.',\n",
              " \"RT @newtgingrich: Joe Biden's leftward lurch, especially the pick of Kamala Harris, has hurt him in Pennsylvania where fracking is a major…\",\n",
              " 'RT @mchooyah: We should just vote by FedEx. Oh wait, you’ll need an ID.',\n",
              " 'RT @TheLastRefuge2: Tom Fitton: “There Needs to be A Criminal Investigation of the Special Counsel”… https://t.co/9hp39eXh8H',\n",
              " 'Chicago‘s Fraternal Order of Police Endorses Donald Trump for Reelection https://t.co/KsDjK2rufh via @BreitbartNews',\n",
              " 'Beautiful evening in Henderson, Nevada with Great American Patriots. Thank you! #MAGA https://t.co/vffiSZ9tzP',\n",
              " 'https://t.co/4LMKipzdWO',\n",
              " 'If you murder a police officer, you should receive the death penalty! https://t.co/07n5Rwrb4b',\n",
              " '...to the families of crime victims and fallen officers. In the Republican Party, we know that police officers are… https://t.co/O18q80Aeka',\n",
              " '...replied “Yes, Absolutely.” Biden calls for abolishing cash bail and closing prisons — and Biden even called law… https://t.co/0LE9jJea10',\n",
              " 'For the entire summer, Joe Biden was SILENT as left-wing mobs assaulted police officers. When Biden’s far-left supp… https://t.co/lEA73w2Mt1',\n",
              " 'Our thoughts are with the two @LASDHQ Sheriff Deputies who were shot in Los Angeles. We send our love and support t… https://t.co/EKJixHtwjm',\n",
              " 'RT @TeamTrump: WATCH LIVE: President Donald Trump in Las Vegas, NV #Nevada \\n\\nText VOTE to 88022 https://t.co/KweoSRwXyR',\n",
              " 'I was right, these people were all wrong, and now they criticize me. Such hypocrisy! https://t.co/sztQ7h5T4M',\n",
              " 'https://t.co/MbCXl7N7lp',\n",
              " 'https://t.co/SWbPXMwyZ7',\n",
              " 'https://t.co/07JO5z1HTW',\n",
              " 'https://t.co/4huhvNl4wQ',\n",
              " '...and prices are coming down FAST! Also just ended all rebates to middlemen, further reducing prices.',\n",
              " 'Just signed a new Executive Order to LOWER DRUG PRICES! My Most Favored Nation order will ensure that our Country g… https://t.co/S4ca1hoQX8',\n",
              " 'Sleepy Joe Biden has spent 47 years in politics being terrible to Hispanics. Now he is relying on Castro lover Bern… https://t.co/GFvaXfDvZX',\n",
              " 'https://t.co/DIYe3VIICW',\n",
              " 'RT @DanScavino: President @realDonaldTrump arrives in Las Vegas, Nevada.... https://t.co/VNcQHT2mEs',\n",
              " 'RT @DanScavino: 🚨𝐇𝐀𝐏𝐏𝐄𝐍𝐈𝐍𝐆 𝐍𝐎𝐖‼️\\n\\nPresident @realDonaldTrump speaking to Great American Patriots in Minden, Nevada at a MAKE AMERICA GREAT…',\n",
              " 'They just don’t get it! https://t.co/kGV9geK4l8',\n",
              " 'Actually falling very steadily and fast. Deaths and hospitalizations way down, and even cases down despite far more… https://t.co/oqU3yB0fI6',\n",
              " 'But people don’t want to get mugged, beaten up, or killed. Let New York’s Finest (who proudly endorsed me!) do thei… https://t.co/ol62DQW3Jk',\n",
              " 'In the highly competitive world of high tech, how come nobody has ever challenged Mini Mike Bloomberg and his very… https://t.co/Vvi080W4Uc',\n",
              " 'I thought Mini Mike was through with Democrat politics after spending almost 2 Billion Dollars, and then giving the… https://t.co/ckNE87Gumk',\n",
              " \"RT @ufc: ANYONE CAN GET IT 😅 Even Romanov's coach! #UFCVegas10 https://t.co/Rjox0BaLlG\",\n",
              " \"RT @atouk_zug: @ScottAdamsSays It's gotten to the point where I can't even bring myself to make Biden jokes anymore.\\n\\nIt's beyond sad.  It'…\",\n",
              " 'RT @LASDHQ: To the protesters blocking the entrance &amp; exit of the HOSPITAL EMERGENCY ROOM yelling \"We hope they die\" referring to 2 LA Sher…',\n",
              " 'If they die, fast trial death penalty for the killer. Only way to stop this! https://t.co/K3sKh28GjX',\n",
              " 'Such an honor! Drudge is down 40% plus since he became Fake News. Most importantly, he’s bleeding profusely, and is… https://t.co/PnZw9lJbsl',\n",
              " 'RT @Cernovich: Sorta tiresome to say that several federal prosecutors being caught destroying evidence should be a huge story but whatever…',\n",
              " 'Animals that must be hit hard! https://t.co/zrOd9ZUl8o',\n",
              " 'RT @markpmeredith: Just watched a sea of people rush to the front of the barricades ahead of tonight’s rally in Minden, NV. https://t.co/pa…',\n",
              " 'I am running for re-election to bring prosperity to Nevada, to put violent criminals behind bars, and to ensure the… https://t.co/GR0FT3vgRg',\n",
              " 'I did more in 47 months as President than Sleepy Joe Biden did in 47 years! #MAGA https://t.co/EzcAswmrYE',\n",
              " '...The far-left maniacs supporting Joe Biden are burning flags and chanting “America was never great.” But we know… https://t.co/i2FfPFX8W9',\n",
              " 'Joe Biden cannot LEAD our Country, because he does not BELIEVE in our Country. At Biden’s convention, they decried… https://t.co/ERNRpXK3ow',\n",
              " 'THANK YOU NEVADA! #MAGA \\nhttps://t.co/E98NXRPllj']"
            ]
          },
          "metadata": {
            "tags": []
          },
          "execution_count": 53
        }
      ]
    },
    {
      "cell_type": "markdown",
      "metadata": {
        "id": "7J8SWNlwA4PT"
      },
      "source": [
        "**Task 4**: Calculate the length of the text of each tweet and add a new column 'length' to the DataFrame."
      ]
    },
    {
      "cell_type": "code",
      "metadata": {
        "id": "MvoUDteOeESh",
        "outputId": "2879e24e-cde7-4820-8ee8-f00e375ea685",
        "colab": {
          "base_uri": "https://localhost:8080/",
          "height": 195
        }
      },
      "source": [
        "len_list = []\n",
        "for tweet in text_list:\n",
        "  len_list.append(len(tweet.split()))\n",
        "\n",
        "tweet_df[\"Length\"] = len_list\n",
        "tweet_df.head(5)"
      ],
      "execution_count": 121,
      "outputs": [
        {
          "output_type": "execute_result",
          "data": {
            "text/html": [
              "<div>\n",
              "<style scoped>\n",
              "    .dataframe tbody tr th:only-of-type {\n",
              "        vertical-align: middle;\n",
              "    }\n",
              "\n",
              "    .dataframe tbody tr th {\n",
              "        vertical-align: top;\n",
              "    }\n",
              "\n",
              "    .dataframe thead th {\n",
              "        text-align: right;\n",
              "    }\n",
              "</style>\n",
              "<table border=\"1\" class=\"dataframe\">\n",
              "  <thead>\n",
              "    <tr style=\"text-align: right;\">\n",
              "      <th></th>\n",
              "      <th>Text</th>\n",
              "      <th>Favorite Count</th>\n",
              "      <th>Retweet Count</th>\n",
              "      <th>Created At</th>\n",
              "      <th>Length</th>\n",
              "      <th>Hour</th>\n",
              "    </tr>\n",
              "  </thead>\n",
              "  <tbody>\n",
              "    <tr>\n",
              "      <th>0</th>\n",
              "      <td>https://t.co/iVY45x4l4A https://t.co/hx2nwiVoKy</td>\n",
              "      <td>22069</td>\n",
              "      <td>5375</td>\n",
              "      <td>2020-09-15 04:07:53+00:00</td>\n",
              "      <td>2</td>\n",
              "      <td>4</td>\n",
              "    </tr>\n",
              "    <tr>\n",
              "      <th>1</th>\n",
              "      <td>My team and I are closely monitoring extremely...</td>\n",
              "      <td>30345</td>\n",
              "      <td>6925</td>\n",
              "      <td>2020-09-15 03:25:01+00:00</td>\n",
              "      <td>21</td>\n",
              "      <td>3</td>\n",
              "    </tr>\n",
              "    <tr>\n",
              "      <th>2</th>\n",
              "      <td>...caused over so many years. Any attack by Ir...</td>\n",
              "      <td>53098</td>\n",
              "      <td>12874</td>\n",
              "      <td>2020-09-15 03:04:34+00:00</td>\n",
              "      <td>23</td>\n",
              "      <td>3</td>\n",
              "    </tr>\n",
              "    <tr>\n",
              "      <th>3</th>\n",
              "      <td>According to press reports, Iran may be planni...</td>\n",
              "      <td>59694</td>\n",
              "      <td>17166</td>\n",
              "      <td>2020-09-15 03:04:33+00:00</td>\n",
              "      <td>20</td>\n",
              "      <td>3</td>\n",
              "    </tr>\n",
              "    <tr>\n",
              "      <th>4</th>\n",
              "      <td>RT @SWAtlasHoover: 1/4: I was asked by the Pre...</td>\n",
              "      <td>0</td>\n",
              "      <td>6120</td>\n",
              "      <td>2020-09-15 02:52:47+00:00</td>\n",
              "      <td>22</td>\n",
              "      <td>2</td>\n",
              "    </tr>\n",
              "  </tbody>\n",
              "</table>\n",
              "</div>"
            ],
            "text/plain": [
              "                                                Text  ...  Hour\n",
              "0    https://t.co/iVY45x4l4A https://t.co/hx2nwiVoKy  ...     4\n",
              "1  My team and I are closely monitoring extremely...  ...     3\n",
              "2  ...caused over so many years. Any attack by Ir...  ...     3\n",
              "3  According to press reports, Iran may be planni...  ...     3\n",
              "4  RT @SWAtlasHoover: 1/4: I was asked by the Pre...  ...     2\n",
              "\n",
              "[5 rows x 6 columns]"
            ]
          },
          "metadata": {
            "tags": []
          },
          "execution_count": 121
        }
      ]
    },
    {
      "cell_type": "markdown",
      "metadata": {
        "id": "etZat8iFA4PV"
      },
      "source": [
        "**Task 5**: Plot the frequencies of the tweet lengths using a bar plot as illustrated below."
      ]
    },
    {
      "cell_type": "code",
      "metadata": {
        "id": "32Wtn7u4mSNT",
        "outputId": "f7016c89-3729-4475-b00f-00c848d60b9d",
        "colab": {
          "base_uri": "https://localhost:8080/",
          "height": 340
        }
      },
      "source": [
        "import matplotlib.pyplot as plt\n",
        "\n",
        "plt.figure(figsize = (8, 5))\n",
        "tweet_df[\"Length\"].value_counts().sort_index().plot.bar()"
      ],
      "execution_count": 158,
      "outputs": [
        {
          "output_type": "execute_result",
          "data": {
            "text/plain": [
              "<matplotlib.axes._subplots.AxesSubplot at 0x7fa1522d7828>"
            ]
          },
          "metadata": {
            "tags": []
          },
          "execution_count": 158
        },
        {
          "output_type": "display_data",
          "data": {
            "image/png": "[encoded data removed]",
            "text/plain": [
              "<Figure size 576x360 with 1 Axes>"
            ]
          },
          "metadata": {
            "tags": [],
            "needs_background": "light"
          }
        }
      ]
    },
    {
      "cell_type": "markdown",
      "metadata": {
        "id": "ICK4Jc6GA4PZ"
      },
      "source": [
        "**Task 6**: Use the information in the column 'created_at' and add a column 'hour' to the DataFrame as illustrated below."
      ]
    },
    {
      "cell_type": "code",
      "metadata": {
        "id": "_HcV_3ENR5PJ",
        "outputId": "cd786079-66bf-4211-be39-8a9e3a042f39",
        "colab": {
          "base_uri": "https://localhost:8080/",
          "height": 284
        }
      },
      "source": [
        "tweet_df[\"Created At\"] = pd.to_datetime(tweet_df[\"Created At\"])\n",
        "hour_list = []\n",
        "\n",
        "for h in tweet_df[\"Created At\"]:\n",
        "  hour_list.append(h.hour)\n",
        "\n",
        "tweet_df[\"Hour\"] = hour_list\n",
        "tweet_df.head(8)"
      ],
      "execution_count": 115,
      "outputs": [
        {
          "output_type": "execute_result",
          "data": {
            "text/html": [
              "<div>\n",
              "<style scoped>\n",
              "    .dataframe tbody tr th:only-of-type {\n",
              "        vertical-align: middle;\n",
              "    }\n",
              "\n",
              "    .dataframe tbody tr th {\n",
              "        vertical-align: top;\n",
              "    }\n",
              "\n",
              "    .dataframe thead th {\n",
              "        text-align: right;\n",
              "    }\n",
              "</style>\n",
              "<table border=\"1\" class=\"dataframe\">\n",
              "  <thead>\n",
              "    <tr style=\"text-align: right;\">\n",
              "      <th></th>\n",
              "      <th>Text</th>\n",
              "      <th>Favorite Count</th>\n",
              "      <th>Retweet Count</th>\n",
              "      <th>Created At</th>\n",
              "      <th>Length</th>\n",
              "      <th>Hour</th>\n",
              "    </tr>\n",
              "  </thead>\n",
              "  <tbody>\n",
              "    <tr>\n",
              "      <th>0</th>\n",
              "      <td>https://t.co/iVY45x4l4A https://t.co/hx2nwiVoKy</td>\n",
              "      <td>22069</td>\n",
              "      <td>5375</td>\n",
              "      <td>2020-09-15 04:07:53+00:00</td>\n",
              "      <td>47</td>\n",
              "      <td>4</td>\n",
              "    </tr>\n",
              "    <tr>\n",
              "      <th>1</th>\n",
              "      <td>My team and I are closely monitoring extremely...</td>\n",
              "      <td>30345</td>\n",
              "      <td>6925</td>\n",
              "      <td>2020-09-15 03:25:01+00:00</td>\n",
              "      <td>144</td>\n",
              "      <td>3</td>\n",
              "    </tr>\n",
              "    <tr>\n",
              "      <th>2</th>\n",
              "      <td>...caused over so many years. Any attack by Ir...</td>\n",
              "      <td>53098</td>\n",
              "      <td>12874</td>\n",
              "      <td>2020-09-15 03:04:34+00:00</td>\n",
              "      <td>140</td>\n",
              "      <td>3</td>\n",
              "    </tr>\n",
              "    <tr>\n",
              "      <th>3</th>\n",
              "      <td>According to press reports, Iran may be planni...</td>\n",
              "      <td>59694</td>\n",
              "      <td>17166</td>\n",
              "      <td>2020-09-15 03:04:33+00:00</td>\n",
              "      <td>140</td>\n",
              "      <td>3</td>\n",
              "    </tr>\n",
              "    <tr>\n",
              "      <th>4</th>\n",
              "      <td>RT @SWAtlasHoover: 1/4: I was asked by the Pre...</td>\n",
              "      <td>0</td>\n",
              "      <td>6120</td>\n",
              "      <td>2020-09-15 02:52:47+00:00</td>\n",
              "      <td>140</td>\n",
              "      <td>2</td>\n",
              "    </tr>\n",
              "    <tr>\n",
              "      <th>5</th>\n",
              "      <td>RT @SteveDaines: An absolute honor to be endor...</td>\n",
              "      <td>0</td>\n",
              "      <td>9182</td>\n",
              "      <td>2020-09-15 02:49:30+00:00</td>\n",
              "      <td>140</td>\n",
              "      <td>2</td>\n",
              "    </tr>\n",
              "    <tr>\n",
              "      <th>6</th>\n",
              "      <td>RT @SenateGOP: Stronger trade deals. Killing t...</td>\n",
              "      <td>0</td>\n",
              "      <td>4457</td>\n",
              "      <td>2020-09-15 02:45:50+00:00</td>\n",
              "      <td>140</td>\n",
              "      <td>2</td>\n",
              "    </tr>\n",
              "    <tr>\n",
              "      <th>7</th>\n",
              "      <td>Left California for Arizona. Leaving Arizona a...</td>\n",
              "      <td>50408</td>\n",
              "      <td>11860</td>\n",
              "      <td>2020-09-15 02:31:10+00:00</td>\n",
              "      <td>140</td>\n",
              "      <td>2</td>\n",
              "    </tr>\n",
              "  </tbody>\n",
              "</table>\n",
              "</div>"
            ],
            "text/plain": [
              "                                                Text  ...  Hour\n",
              "0    https://t.co/iVY45x4l4A https://t.co/hx2nwiVoKy  ...     4\n",
              "1  My team and I are closely monitoring extremely...  ...     3\n",
              "2  ...caused over so many years. Any attack by Ir...  ...     3\n",
              "3  According to press reports, Iran may be planni...  ...     3\n",
              "4  RT @SWAtlasHoover: 1/4: I was asked by the Pre...  ...     2\n",
              "5  RT @SteveDaines: An absolute honor to be endor...  ...     2\n",
              "6  RT @SenateGOP: Stronger trade deals. Killing t...  ...     2\n",
              "7  Left California for Arizona. Leaving Arizona a...  ...     2\n",
              "\n",
              "[8 rows x 6 columns]"
            ]
          },
          "metadata": {
            "tags": []
          },
          "execution_count": 115
        }
      ]
    },
    {
      "cell_type": "markdown",
      "metadata": {
        "id": "B1hwNhimA4Pc"
      },
      "source": [
        "**Task 7**: Use a bar plot and plot the frequencies of the times at which tweets were sent (at hourly intervals)."
      ]
    },
    {
      "cell_type": "code",
      "metadata": {
        "id": "3h7WDFdNxaVo",
        "outputId": "20bdc840-32b8-4614-e144-30f9769c0047",
        "colab": {
          "base_uri": "https://localhost:8080/",
          "height": 340
        }
      },
      "source": [
        "plt.figure(figsize = (8, 5))\n",
        "tweet_df[\"Hour  \"].value_counts().sort_index().plot.bar()"
      ],
      "execution_count": 159,
      "outputs": [
        {
          "output_type": "execute_result",
          "data": {
            "text/plain": [
              "<matplotlib.axes._subplots.AxesSubplot at 0x7fa15229af60>"
            ]
          },
          "metadata": {
            "tags": []
          },
          "execution_count": 159
        },
        {
          "output_type": "display_data",
          "data": {
            "image/png": "[encoded data removed]",
            "text/plain": [
              "<Figure size 576x360 with 1 Axes>"
            ]
          },
          "metadata": {
            "tags": [],
            "needs_background": "light"
          }
        }
      ]
    },
    {
      "cell_type": "markdown",
      "metadata": {
        "id": "Uagm1Ii9A4Pe"
      },
      "source": [
        "**Task 8**: Use a regular expression that finds the hashtags in the tweets ('text'), add them to a new column 'hashtag' and display the resulting DataFrame. "
      ]
    },
    {
      "cell_type": "code",
      "metadata": {
        "id": "wf4iGS9zgU7t",
        "outputId": "0f7771b7-26e1-4c13-e211-39c12addc2ba",
        "colab": {
          "base_uri": "https://localhost:8080/",
          "height": 402
        }
      },
      "source": [
        "import re\n",
        "\n",
        "hash_list = []\n",
        "for tweet in text_list:\n",
        "  hash_list.append(re.findall(r'#(\\w+)', tweet))\n",
        "\n",
        "tweet_df[\"Hashtags\"] = hash_list\n",
        "tweet_df"
      ],
      "execution_count": 164,
      "outputs": [
        {
          "output_type": "execute_result",
          "data": {
            "text/html": [
              "<div>\n",
              "<style scoped>\n",
              "    .dataframe tbody tr th:only-of-type {\n",
              "        vertical-align: middle;\n",
              "    }\n",
              "\n",
              "    .dataframe tbody tr th {\n",
              "        vertical-align: top;\n",
              "    }\n",
              "\n",
              "    .dataframe thead th {\n",
              "        text-align: right;\n",
              "    }\n",
              "</style>\n",
              "<table border=\"1\" class=\"dataframe\">\n",
              "  <thead>\n",
              "    <tr style=\"text-align: right;\">\n",
              "      <th></th>\n",
              "      <th>Text</th>\n",
              "      <th>Favorite Count</th>\n",
              "      <th>Retweet Count</th>\n",
              "      <th>Created At</th>\n",
              "      <th>Length</th>\n",
              "      <th>Hour</th>\n",
              "      <th>Hashtags</th>\n",
              "    </tr>\n",
              "  </thead>\n",
              "  <tbody>\n",
              "    <tr>\n",
              "      <th>0</th>\n",
              "      <td>https://t.co/iVY45x4l4A https://t.co/hx2nwiVoKy</td>\n",
              "      <td>22069</td>\n",
              "      <td>5375</td>\n",
              "      <td>2020-09-15 04:07:53+00:00</td>\n",
              "      <td>2</td>\n",
              "      <td>4</td>\n",
              "      <td>[]</td>\n",
              "    </tr>\n",
              "    <tr>\n",
              "      <th>1</th>\n",
              "      <td>My team and I are closely monitoring extremely...</td>\n",
              "      <td>30345</td>\n",
              "      <td>6925</td>\n",
              "      <td>2020-09-15 03:25:01+00:00</td>\n",
              "      <td>21</td>\n",
              "      <td>3</td>\n",
              "      <td>[]</td>\n",
              "    </tr>\n",
              "    <tr>\n",
              "      <th>2</th>\n",
              "      <td>...caused over so many years. Any attack by Ir...</td>\n",
              "      <td>53098</td>\n",
              "      <td>12874</td>\n",
              "      <td>2020-09-15 03:04:34+00:00</td>\n",
              "      <td>23</td>\n",
              "      <td>3</td>\n",
              "      <td>[]</td>\n",
              "    </tr>\n",
              "    <tr>\n",
              "      <th>3</th>\n",
              "      <td>According to press reports, Iran may be planni...</td>\n",
              "      <td>59694</td>\n",
              "      <td>17166</td>\n",
              "      <td>2020-09-15 03:04:33+00:00</td>\n",
              "      <td>20</td>\n",
              "      <td>3</td>\n",
              "      <td>[]</td>\n",
              "    </tr>\n",
              "    <tr>\n",
              "      <th>4</th>\n",
              "      <td>RT @SWAtlasHoover: 1/4: I was asked by the Pre...</td>\n",
              "      <td>0</td>\n",
              "      <td>6120</td>\n",
              "      <td>2020-09-15 02:52:47+00:00</td>\n",
              "      <td>22</td>\n",
              "      <td>2</td>\n",
              "      <td>[]</td>\n",
              "    </tr>\n",
              "    <tr>\n",
              "      <th>...</th>\n",
              "      <td>...</td>\n",
              "      <td>...</td>\n",
              "      <td>...</td>\n",
              "      <td>...</td>\n",
              "      <td>...</td>\n",
              "      <td>...</td>\n",
              "      <td>...</td>\n",
              "    </tr>\n",
              "    <tr>\n",
              "      <th>144</th>\n",
              "      <td>I am running for re-election to bring prosperi...</td>\n",
              "      <td>134992</td>\n",
              "      <td>34266</td>\n",
              "      <td>2020-09-13 04:49:55+00:00</td>\n",
              "      <td>21</td>\n",
              "      <td>4</td>\n",
              "      <td>[]</td>\n",
              "    </tr>\n",
              "    <tr>\n",
              "      <th>145</th>\n",
              "      <td>I did more in 47 months as President than Slee...</td>\n",
              "      <td>78111</td>\n",
              "      <td>19893</td>\n",
              "      <td>2020-09-13 04:35:50+00:00</td>\n",
              "      <td>18</td>\n",
              "      <td>4</td>\n",
              "      <td>[MAGA]</td>\n",
              "    </tr>\n",
              "    <tr>\n",
              "      <th>146</th>\n",
              "      <td>...The far-left maniacs supporting Joe Biden a...</td>\n",
              "      <td>71560</td>\n",
              "      <td>16954</td>\n",
              "      <td>2020-09-13 04:20:30+00:00</td>\n",
              "      <td>19</td>\n",
              "      <td>4</td>\n",
              "      <td>[]</td>\n",
              "    </tr>\n",
              "    <tr>\n",
              "      <th>147</th>\n",
              "      <td>Joe Biden cannot LEAD our Country, because he ...</td>\n",
              "      <td>111068</td>\n",
              "      <td>28318</td>\n",
              "      <td>2020-09-13 04:20:29+00:00</td>\n",
              "      <td>20</td>\n",
              "      <td>4</td>\n",
              "      <td>[]</td>\n",
              "    </tr>\n",
              "    <tr>\n",
              "      <th>148</th>\n",
              "      <td>THANK YOU NEVADA! #MAGA \\nhttps://t.co/E98NXRPllj</td>\n",
              "      <td>59496</td>\n",
              "      <td>14983</td>\n",
              "      <td>2020-09-13 04:07:00+00:00</td>\n",
              "      <td>5</td>\n",
              "      <td>4</td>\n",
              "      <td>[MAGA]</td>\n",
              "    </tr>\n",
              "  </tbody>\n",
              "</table>\n",
              "<p>149 rows × 7 columns</p>\n",
              "</div>"
            ],
            "text/plain": [
              "                                                  Text  ...  Hashtags\n",
              "0      https://t.co/iVY45x4l4A https://t.co/hx2nwiVoKy  ...        []\n",
              "1    My team and I are closely monitoring extremely...  ...        []\n",
              "2    ...caused over so many years. Any attack by Ir...  ...        []\n",
              "3    According to press reports, Iran may be planni...  ...        []\n",
              "4    RT @SWAtlasHoover: 1/4: I was asked by the Pre...  ...        []\n",
              "..                                                 ...  ...       ...\n",
              "144  I am running for re-election to bring prosperi...  ...        []\n",
              "145  I did more in 47 months as President than Slee...  ...    [MAGA]\n",
              "146  ...The far-left maniacs supporting Joe Biden a...  ...        []\n",
              "147  Joe Biden cannot LEAD our Country, because he ...  ...        []\n",
              "148  THANK YOU NEVADA! #MAGA \\nhttps://t.co/E98NXRPllj  ...    [MAGA]\n",
              "\n",
              "[149 rows x 7 columns]"
            ]
          },
          "metadata": {
            "tags": []
          },
          "execution_count": 164
        }
      ]
    },
    {
      "cell_type": "markdown",
      "metadata": {
        "id": "YEfif1SjA4Pg"
      },
      "source": [
        "**Task 9**: Use a regular expression that removes all links from the tweets ('text'), add a column 'text_without_links' and display the resulting DataFrame."
      ]
    },
    {
      "cell_type": "code",
      "metadata": {
        "id": "Rl0fh2aihaqW",
        "outputId": "7a3b5b0c-bdf2-40bb-e29c-54d4b7ed9119",
        "colab": {
          "base_uri": "https://localhost:8080/",
          "height": 402
        }
      },
      "source": [
        "raw_text_list = []\n",
        "\n",
        "for tweet in text_list:\n",
        "  raw_text_list.append(re.sub(r'https?:\\/\\/.*[\\r\\n]*', '', tweet, flags = re.MULTILINE))\n",
        "\n",
        "tweet_df[\"without URL\"] = raw_text_list\n",
        "tweet_df"
      ],
      "execution_count": 169,
      "outputs": [
        {
          "output_type": "execute_result",
          "data": {
            "text/html": [
              "<div>\n",
              "<style scoped>\n",
              "    .dataframe tbody tr th:only-of-type {\n",
              "        vertical-align: middle;\n",
              "    }\n",
              "\n",
              "    .dataframe tbody tr th {\n",
              "        vertical-align: top;\n",
              "    }\n",
              "\n",
              "    .dataframe thead th {\n",
              "        text-align: right;\n",
              "    }\n",
              "</style>\n",
              "<table border=\"1\" class=\"dataframe\">\n",
              "  <thead>\n",
              "    <tr style=\"text-align: right;\">\n",
              "      <th></th>\n",
              "      <th>Text</th>\n",
              "      <th>Favorite Count</th>\n",
              "      <th>Retweet Count</th>\n",
              "      <th>Created At</th>\n",
              "      <th>Length</th>\n",
              "      <th>Hour</th>\n",
              "      <th>Hashtags</th>\n",
              "      <th>without URL</th>\n",
              "    </tr>\n",
              "  </thead>\n",
              "  <tbody>\n",
              "    <tr>\n",
              "      <th>0</th>\n",
              "      <td>https://t.co/iVY45x4l4A https://t.co/hx2nwiVoKy</td>\n",
              "      <td>22069</td>\n",
              "      <td>5375</td>\n",
              "      <td>2020-09-15 04:07:53+00:00</td>\n",
              "      <td>2</td>\n",
              "      <td>4</td>\n",
              "      <td>[]</td>\n",
              "      <td></td>\n",
              "    </tr>\n",
              "    <tr>\n",
              "      <th>1</th>\n",
              "      <td>My team and I are closely monitoring extremely...</td>\n",
              "      <td>30345</td>\n",
              "      <td>6925</td>\n",
              "      <td>2020-09-15 03:25:01+00:00</td>\n",
              "      <td>21</td>\n",
              "      <td>3</td>\n",
              "      <td>[]</td>\n",
              "      <td>My team and I are closely monitoring extremely...</td>\n",
              "    </tr>\n",
              "    <tr>\n",
              "      <th>2</th>\n",
              "      <td>...caused over so many years. Any attack by Ir...</td>\n",
              "      <td>53098</td>\n",
              "      <td>12874</td>\n",
              "      <td>2020-09-15 03:04:34+00:00</td>\n",
              "      <td>23</td>\n",
              "      <td>3</td>\n",
              "      <td>[]</td>\n",
              "      <td>...caused over so many years. Any attack by Ir...</td>\n",
              "    </tr>\n",
              "    <tr>\n",
              "      <th>3</th>\n",
              "      <td>According to press reports, Iran may be planni...</td>\n",
              "      <td>59694</td>\n",
              "      <td>17166</td>\n",
              "      <td>2020-09-15 03:04:33+00:00</td>\n",
              "      <td>20</td>\n",
              "      <td>3</td>\n",
              "      <td>[]</td>\n",
              "      <td>According to press reports, Iran may be planni...</td>\n",
              "    </tr>\n",
              "    <tr>\n",
              "      <th>4</th>\n",
              "      <td>RT @SWAtlasHoover: 1/4: I was asked by the Pre...</td>\n",
              "      <td>0</td>\n",
              "      <td>6120</td>\n",
              "      <td>2020-09-15 02:52:47+00:00</td>\n",
              "      <td>22</td>\n",
              "      <td>2</td>\n",
              "      <td>[]</td>\n",
              "      <td>RT @SWAtlasHoover: 1/4: I was asked by the Pre...</td>\n",
              "    </tr>\n",
              "    <tr>\n",
              "      <th>...</th>\n",
              "      <td>...</td>\n",
              "      <td>...</td>\n",
              "      <td>...</td>\n",
              "      <td>...</td>\n",
              "      <td>...</td>\n",
              "      <td>...</td>\n",
              "      <td>...</td>\n",
              "      <td>...</td>\n",
              "    </tr>\n",
              "    <tr>\n",
              "      <th>144</th>\n",
              "      <td>I am running for re-election to bring prosperi...</td>\n",
              "      <td>134992</td>\n",
              "      <td>34266</td>\n",
              "      <td>2020-09-13 04:49:55+00:00</td>\n",
              "      <td>21</td>\n",
              "      <td>4</td>\n",
              "      <td>[]</td>\n",
              "      <td>I am running for re-election to bring prosperi...</td>\n",
              "    </tr>\n",
              "    <tr>\n",
              "      <th>145</th>\n",
              "      <td>I did more in 47 months as President than Slee...</td>\n",
              "      <td>78111</td>\n",
              "      <td>19893</td>\n",
              "      <td>2020-09-13 04:35:50+00:00</td>\n",
              "      <td>18</td>\n",
              "      <td>4</td>\n",
              "      <td>[MAGA]</td>\n",
              "      <td>I did more in 47 months as President than Slee...</td>\n",
              "    </tr>\n",
              "    <tr>\n",
              "      <th>146</th>\n",
              "      <td>...The far-left maniacs supporting Joe Biden a...</td>\n",
              "      <td>71560</td>\n",
              "      <td>16954</td>\n",
              "      <td>2020-09-13 04:20:30+00:00</td>\n",
              "      <td>19</td>\n",
              "      <td>4</td>\n",
              "      <td>[]</td>\n",
              "      <td>...The far-left maniacs supporting Joe Biden a...</td>\n",
              "    </tr>\n",
              "    <tr>\n",
              "      <th>147</th>\n",
              "      <td>Joe Biden cannot LEAD our Country, because he ...</td>\n",
              "      <td>111068</td>\n",
              "      <td>28318</td>\n",
              "      <td>2020-09-13 04:20:29+00:00</td>\n",
              "      <td>20</td>\n",
              "      <td>4</td>\n",
              "      <td>[]</td>\n",
              "      <td>Joe Biden cannot LEAD our Country, because he ...</td>\n",
              "    </tr>\n",
              "    <tr>\n",
              "      <th>148</th>\n",
              "      <td>THANK YOU NEVADA! #MAGA \\nhttps://t.co/E98NXRPllj</td>\n",
              "      <td>59496</td>\n",
              "      <td>14983</td>\n",
              "      <td>2020-09-13 04:07:00+00:00</td>\n",
              "      <td>5</td>\n",
              "      <td>4</td>\n",
              "      <td>[MAGA]</td>\n",
              "      <td>THANK YOU NEVADA! #MAGA \\n</td>\n",
              "    </tr>\n",
              "  </tbody>\n",
              "</table>\n",
              "<p>149 rows × 8 columns</p>\n",
              "</div>"
            ],
            "text/plain": [
              "                                                  Text  ...                                        without URL\n",
              "0      https://t.co/iVY45x4l4A https://t.co/hx2nwiVoKy  ...                                                   \n",
              "1    My team and I are closely monitoring extremely...  ...  My team and I are closely monitoring extremely...\n",
              "2    ...caused over so many years. Any attack by Ir...  ...  ...caused over so many years. Any attack by Ir...\n",
              "3    According to press reports, Iran may be planni...  ...  According to press reports, Iran may be planni...\n",
              "4    RT @SWAtlasHoover: 1/4: I was asked by the Pre...  ...  RT @SWAtlasHoover: 1/4: I was asked by the Pre...\n",
              "..                                                 ...  ...                                                ...\n",
              "144  I am running for re-election to bring prosperi...  ...  I am running for re-election to bring prosperi...\n",
              "145  I did more in 47 months as President than Slee...  ...  I did more in 47 months as President than Slee...\n",
              "146  ...The far-left maniacs supporting Joe Biden a...  ...  ...The far-left maniacs supporting Joe Biden a...\n",
              "147  Joe Biden cannot LEAD our Country, because he ...  ...  Joe Biden cannot LEAD our Country, because he ...\n",
              "148  THANK YOU NEVADA! #MAGA \\nhttps://t.co/E98NXRPllj  ...                         THANK YOU NEVADA! #MAGA \\n\n",
              "\n",
              "[149 rows x 8 columns]"
            ]
          },
          "metadata": {
            "tags": []
          },
          "execution_count": 169
        }
      ]
    },
    {
      "cell_type": "markdown",
      "metadata": {
        "id": "IYUHbjADA4Pj"
      },
      "source": [
        "**Task 10**: Remove all retweets ('RT') from the DataFrame and display the resulting DataFrame."
      ]
    },
    {
      "cell_type": "code",
      "metadata": {
        "id": "gRUU8QyuitTp",
        "outputId": "144e5c8b-630a-4ef5-c430-28aacbd492a7",
        "colab": {
          "base_uri": "https://localhost:8080/",
          "height": 402
        }
      },
      "source": [
        "og_tweet_df = tweet_df[~tweet_df.Text.str.contains(\"RT\")]\n",
        "og_tweet_df"
      ],
      "execution_count": 172,
      "outputs": [
        {
          "output_type": "execute_result",
          "data": {
            "text/html": [
              "<div>\n",
              "<style scoped>\n",
              "    .dataframe tbody tr th:only-of-type {\n",
              "        vertical-align: middle;\n",
              "    }\n",
              "\n",
              "    .dataframe tbody tr th {\n",
              "        vertical-align: top;\n",
              "    }\n",
              "\n",
              "    .dataframe thead th {\n",
              "        text-align: right;\n",
              "    }\n",
              "</style>\n",
              "<table border=\"1\" class=\"dataframe\">\n",
              "  <thead>\n",
              "    <tr style=\"text-align: right;\">\n",
              "      <th></th>\n",
              "      <th>Text</th>\n",
              "      <th>Favorite Count</th>\n",
              "      <th>Retweet Count</th>\n",
              "      <th>Created At</th>\n",
              "      <th>Length</th>\n",
              "      <th>Hour</th>\n",
              "      <th>Hashtags</th>\n",
              "      <th>without URL</th>\n",
              "    </tr>\n",
              "  </thead>\n",
              "  <tbody>\n",
              "    <tr>\n",
              "      <th>0</th>\n",
              "      <td>https://t.co/iVY45x4l4A https://t.co/hx2nwiVoKy</td>\n",
              "      <td>22069</td>\n",
              "      <td>5375</td>\n",
              "      <td>2020-09-15 04:07:53+00:00</td>\n",
              "      <td>2</td>\n",
              "      <td>4</td>\n",
              "      <td>[]</td>\n",
              "      <td></td>\n",
              "    </tr>\n",
              "    <tr>\n",
              "      <th>1</th>\n",
              "      <td>My team and I are closely monitoring extremely...</td>\n",
              "      <td>30345</td>\n",
              "      <td>6925</td>\n",
              "      <td>2020-09-15 03:25:01+00:00</td>\n",
              "      <td>21</td>\n",
              "      <td>3</td>\n",
              "      <td>[]</td>\n",
              "      <td>My team and I are closely monitoring extremely...</td>\n",
              "    </tr>\n",
              "    <tr>\n",
              "      <th>2</th>\n",
              "      <td>...caused over so many years. Any attack by Ir...</td>\n",
              "      <td>53098</td>\n",
              "      <td>12874</td>\n",
              "      <td>2020-09-15 03:04:34+00:00</td>\n",
              "      <td>23</td>\n",
              "      <td>3</td>\n",
              "      <td>[]</td>\n",
              "      <td>...caused over so many years. Any attack by Ir...</td>\n",
              "    </tr>\n",
              "    <tr>\n",
              "      <th>3</th>\n",
              "      <td>According to press reports, Iran may be planni...</td>\n",
              "      <td>59694</td>\n",
              "      <td>17166</td>\n",
              "      <td>2020-09-15 03:04:33+00:00</td>\n",
              "      <td>20</td>\n",
              "      <td>3</td>\n",
              "      <td>[]</td>\n",
              "      <td>According to press reports, Iran may be planni...</td>\n",
              "    </tr>\n",
              "    <tr>\n",
              "      <th>7</th>\n",
              "      <td>Left California for Arizona. Leaving Arizona a...</td>\n",
              "      <td>50408</td>\n",
              "      <td>11860</td>\n",
              "      <td>2020-09-15 02:31:10+00:00</td>\n",
              "      <td>18</td>\n",
              "      <td>2</td>\n",
              "      <td>[]</td>\n",
              "      <td>Left California for Arizona. Leaving Arizona a...</td>\n",
              "    </tr>\n",
              "    <tr>\n",
              "      <th>...</th>\n",
              "      <td>...</td>\n",
              "      <td>...</td>\n",
              "      <td>...</td>\n",
              "      <td>...</td>\n",
              "      <td>...</td>\n",
              "      <td>...</td>\n",
              "      <td>...</td>\n",
              "      <td>...</td>\n",
              "    </tr>\n",
              "    <tr>\n",
              "      <th>144</th>\n",
              "      <td>I am running for re-election to bring prosperi...</td>\n",
              "      <td>134992</td>\n",
              "      <td>34266</td>\n",
              "      <td>2020-09-13 04:49:55+00:00</td>\n",
              "      <td>21</td>\n",
              "      <td>4</td>\n",
              "      <td>[]</td>\n",
              "      <td>I am running for re-election to bring prosperi...</td>\n",
              "    </tr>\n",
              "    <tr>\n",
              "      <th>145</th>\n",
              "      <td>I did more in 47 months as President than Slee...</td>\n",
              "      <td>78111</td>\n",
              "      <td>19893</td>\n",
              "      <td>2020-09-13 04:35:50+00:00</td>\n",
              "      <td>18</td>\n",
              "      <td>4</td>\n",
              "      <td>[MAGA]</td>\n",
              "      <td>I did more in 47 months as President than Slee...</td>\n",
              "    </tr>\n",
              "    <tr>\n",
              "      <th>146</th>\n",
              "      <td>...The far-left maniacs supporting Joe Biden a...</td>\n",
              "      <td>71560</td>\n",
              "      <td>16954</td>\n",
              "      <td>2020-09-13 04:20:30+00:00</td>\n",
              "      <td>19</td>\n",
              "      <td>4</td>\n",
              "      <td>[]</td>\n",
              "      <td>...The far-left maniacs supporting Joe Biden a...</td>\n",
              "    </tr>\n",
              "    <tr>\n",
              "      <th>147</th>\n",
              "      <td>Joe Biden cannot LEAD our Country, because he ...</td>\n",
              "      <td>111068</td>\n",
              "      <td>28318</td>\n",
              "      <td>2020-09-13 04:20:29+00:00</td>\n",
              "      <td>20</td>\n",
              "      <td>4</td>\n",
              "      <td>[]</td>\n",
              "      <td>Joe Biden cannot LEAD our Country, because he ...</td>\n",
              "    </tr>\n",
              "    <tr>\n",
              "      <th>148</th>\n",
              "      <td>THANK YOU NEVADA! #MAGA \\nhttps://t.co/E98NXRPllj</td>\n",
              "      <td>59496</td>\n",
              "      <td>14983</td>\n",
              "      <td>2020-09-13 04:07:00+00:00</td>\n",
              "      <td>5</td>\n",
              "      <td>4</td>\n",
              "      <td>[MAGA]</td>\n",
              "      <td>THANK YOU NEVADA! #MAGA \\n</td>\n",
              "    </tr>\n",
              "  </tbody>\n",
              "</table>\n",
              "<p>70 rows × 8 columns</p>\n",
              "</div>"
            ],
            "text/plain": [
              "                                                  Text  ...                                        without URL\n",
              "0      https://t.co/iVY45x4l4A https://t.co/hx2nwiVoKy  ...                                                   \n",
              "1    My team and I are closely monitoring extremely...  ...  My team and I are closely monitoring extremely...\n",
              "2    ...caused over so many years. Any attack by Ir...  ...  ...caused over so many years. Any attack by Ir...\n",
              "3    According to press reports, Iran may be planni...  ...  According to press reports, Iran may be planni...\n",
              "7    Left California for Arizona. Leaving Arizona a...  ...  Left California for Arizona. Leaving Arizona a...\n",
              "..                                                 ...  ...                                                ...\n",
              "144  I am running for re-election to bring prosperi...  ...  I am running for re-election to bring prosperi...\n",
              "145  I did more in 47 months as President than Slee...  ...  I did more in 47 months as President than Slee...\n",
              "146  ...The far-left maniacs supporting Joe Biden a...  ...  ...The far-left maniacs supporting Joe Biden a...\n",
              "147  Joe Biden cannot LEAD our Country, because he ...  ...  Joe Biden cannot LEAD our Country, because he ...\n",
              "148  THANK YOU NEVADA! #MAGA \\nhttps://t.co/E98NXRPllj  ...                         THANK YOU NEVADA! #MAGA \\n\n",
              "\n",
              "[70 rows x 8 columns]"
            ]
          },
          "metadata": {
            "tags": []
          },
          "execution_count": 172
        }
      ]
    }
  ]
}