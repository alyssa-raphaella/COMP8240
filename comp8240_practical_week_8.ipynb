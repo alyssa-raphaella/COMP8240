{
  "nbformat": 4,
  "nbformat_minor": 0,
  "metadata": {
    "colab": {
      "name": "comp8240-practical-week-8.ipynb",
      "provenance": [],
      "collapsed_sections": [],
      "include_colab_link": true
    },
    "kernelspec": {
      "display_name": "Python 3",
      "language": "python",
      "name": "python3"
    },
    "language_info": {
      "codemirror_mode": {
        "name": "ipython",
        "version": 3
      },
      "file_extension": ".py",
      "mimetype": "text/x-python",
      "name": "python",
      "nbconvert_exporter": "python",
      "pygments_lexer": "ipython3",
      "version": "3.7.3"
    }
  },
  "cells": [
    {
      "cell_type": "markdown",
      "metadata": {
        "id": "view-in-github",
        "colab_type": "text"
      },
      "source": [
        "<a href=\"https://colab.research.google.com/github/alyssa-raphaella/COMP8240/blob/master/comp8240_practical_week_8.ipynb\" target=\"_parent\"><img src=\"https://colab.research.google.com/assets/colab-badge.svg\" alt=\"Open In Colab\"/></a>"
      ]
    },
    {
      "cell_type": "markdown",
      "metadata": {
        "id": "4b1zwmSgA4O5"
      },
      "source": [
        "### Practical Week 8: Working with Tweets of Donald Trump"
      ]
    },
    {
      "cell_type": "code",
      "metadata": {
        "id": "j_YJh2J2JKlT"
      },
      "source": [
        "import tweepy"
      ],
      "execution_count": 1,
      "outputs": []
    },
    {
      "cell_type": "markdown",
      "metadata": {
        "id": "a1gzmtSYA4O_"
      },
      "source": [
        "**Task1**: Authentication"
      ]
    },
    {
      "cell_type": "code",
      "metadata": {
        "id": "uKWnHORhA4O_"
      },
      "source": [
        "# Your credentials go here ...\n",
        "\n",
        "consumer_key = 'CfqZfNRTvcHdDRCo23PZt3ETa'\n",
        "consumer_key_secret = '9NVfiSz9tcp2GvLDchPxfh2sNLHKpmUVwfvuxeCPwdjKM14upU'\n",
        "access_token = '1223923047490445312-gNkYAcwaS1HDVmQfi7KF0YJQBpokZW'\n",
        "access_token_secret = 'ZZ5iad8aXQCrvI9NnAzqZxYBTdKHb81WubYeLeAiQ3T8i'\n",
        "\n",
        "auth = tweepy.OAuthHandler(consumer_key, consumer_key_secret)\n",
        "\n",
        "auth.set_access_token(access_token, access_token_secret)\n",
        "\n",
        "api = tweepy.API(auth)"
      ],
      "execution_count": 2,
      "outputs": []
    },
    {
      "cell_type": "code",
      "metadata": {
        "id": "PYfxufoIBHEC",
        "outputId": "205cc508-63b9-4cff-cdcb-105ce6c762c2",
        "colab": {
          "base_uri": "https://localhost:8080/",
          "height": 54
        }
      },
      "source": [
        "api.update_status(\"Tweepy Test xxxx ugh\")"
      ],
      "execution_count": 3,
      "outputs": [
        {
          "output_type": "execute_result",
          "data": {
            "text/plain": [
              "Status(_api=<tweepy.api.API object at 0x7f1c78cd8828>, _json={'created_at': 'Wed Sep 30 05:54:34 +0000 2020', 'id': 1311182631485288448, 'id_str': '1311182631485288448', 'text': 'Tweepy Test xxxx ugh', 'truncated': False, 'entities': {'hashtags': [], 'symbols': [], 'user_mentions': [], 'urls': []}, 'source': '<a href=\"https://github.com/alyssa-raphaella/Twitter\" rel=\"nofollow\">COMP8230_TwitterTest001</a>', 'in_reply_to_status_id': None, 'in_reply_to_status_id_str': None, 'in_reply_to_user_id': None, 'in_reply_to_user_id_str': None, 'in_reply_to_screen_name': None, 'user': {'id': 1223923047490445312, 'id_str': '1223923047490445312', 'name': 'Alyssa', 'screen_name': '14rg3', 'location': 'Republic of the Philippines', 'description': 'voice inside my head', 'url': None, 'entities': {'description': {'urls': []}}, 'protected': False, 'followers_count': 3, 'friends_count': 16, 'listed_count': 0, 'created_at': 'Sun Feb 02 10:56:17 +0000 2020', 'favourites_count': 6, 'utc_offset': None, 'time_zone': None, 'geo_enabled': False, 'verified': False, 'statuses_count': 7, 'lang': None, 'contributors_enabled': False, 'is_translator': False, 'is_translation_enabled': False, 'profile_background_color': 'F5F8FA', 'profile_background_image_url': None, 'profile_background_image_url_https': None, 'profile_background_tile': False, 'profile_image_url': 'http://pbs.twimg.com/profile_images/1223924771227746304/zPIEVVWk_normal.jpg', 'profile_image_url_https': 'https://pbs.twimg.com/profile_images/1223924771227746304/zPIEVVWk_normal.jpg', 'profile_banner_url': 'https://pbs.twimg.com/profile_banners/1223923047490445312/1580641415', 'profile_link_color': '1DA1F2', 'profile_sidebar_border_color': 'C0DEED', 'profile_sidebar_fill_color': 'DDEEF6', 'profile_text_color': '333333', 'profile_use_background_image': True, 'has_extended_profile': False, 'default_profile': True, 'default_profile_image': False, 'following': False, 'follow_request_sent': False, 'notifications': False, 'translator_type': 'none'}, 'geo': None, 'coordinates': None, 'place': None, 'contributors': None, 'is_quote_status': False, 'retweet_count': 0, 'favorite_count': 0, 'favorited': False, 'retweeted': False, 'lang': 'en'}, created_at=datetime.datetime(2020, 9, 30, 5, 54, 34), id=1311182631485288448, id_str='1311182631485288448', text='Tweepy Test xxxx ugh', truncated=False, entities={'hashtags': [], 'symbols': [], 'user_mentions': [], 'urls': []}, source='COMP8230_TwitterTest001', source_url='https://github.com/alyssa-raphaella/Twitter', in_reply_to_status_id=None, in_reply_to_status_id_str=None, in_reply_to_user_id=None, in_reply_to_user_id_str=None, in_reply_to_screen_name=None, author=User(_api=<tweepy.api.API object at 0x7f1c78cd8828>, _json={'id': 1223923047490445312, 'id_str': '1223923047490445312', 'name': 'Alyssa', 'screen_name': '14rg3', 'location': 'Republic of the Philippines', 'description': 'voice inside my head', 'url': None, 'entities': {'description': {'urls': []}}, 'protected': False, 'followers_count': 3, 'friends_count': 16, 'listed_count': 0, 'created_at': 'Sun Feb 02 10:56:17 +0000 2020', 'favourites_count': 6, 'utc_offset': None, 'time_zone': None, 'geo_enabled': False, 'verified': False, 'statuses_count': 7, 'lang': None, 'contributors_enabled': False, 'is_translator': False, 'is_translation_enabled': False, 'profile_background_color': 'F5F8FA', 'profile_background_image_url': None, 'profile_background_image_url_https': None, 'profile_background_tile': False, 'profile_image_url': 'http://pbs.twimg.com/profile_images/1223924771227746304/zPIEVVWk_normal.jpg', 'profile_image_url_https': 'https://pbs.twimg.com/profile_images/1223924771227746304/zPIEVVWk_normal.jpg', 'profile_banner_url': 'https://pbs.twimg.com/profile_banners/1223923047490445312/1580641415', 'profile_link_color': '1DA1F2', 'profile_sidebar_border_color': 'C0DEED', 'profile_sidebar_fill_color': 'DDEEF6', 'profile_text_color': '333333', 'profile_use_background_image': True, 'has_extended_profile': False, 'default_profile': True, 'default_profile_image': False, 'following': False, 'follow_request_sent': False, 'notifications': False, 'translator_type': 'none'}, id=1223923047490445312, id_str='1223923047490445312', name='Alyssa', screen_name='14rg3', location='Republic of the Philippines', description='voice inside my head', url=None, entities={'description': {'urls': []}}, protected=False, followers_count=3, friends_count=16, listed_count=0, created_at=datetime.datetime(2020, 2, 2, 10, 56, 17), favourites_count=6, utc_offset=None, time_zone=None, geo_enabled=False, verified=False, statuses_count=7, lang=None, contributors_enabled=False, is_translator=False, is_translation_enabled=False, profile_background_color='F5F8FA', profile_background_image_url=None, profile_background_image_url_https=None, profile_background_tile=False, profile_image_url='http://pbs.twimg.com/profile_images/1223924771227746304/zPIEVVWk_normal.jpg', profile_image_url_https='https://pbs.twimg.com/profile_images/1223924771227746304/zPIEVVWk_normal.jpg', profile_banner_url='https://pbs.twimg.com/profile_banners/1223923047490445312/1580641415', profile_link_color='1DA1F2', profile_sidebar_border_color='C0DEED', profile_sidebar_fill_color='DDEEF6', profile_text_color='333333', profile_use_background_image=True, has_extended_profile=False, default_profile=True, default_profile_image=False, following=False, follow_request_sent=False, notifications=False, translator_type='none'), user=User(_api=<tweepy.api.API object at 0x7f1c78cd8828>, _json={'id': 1223923047490445312, 'id_str': '1223923047490445312', 'name': 'Alyssa', 'screen_name': '14rg3', 'location': 'Republic of the Philippines', 'description': 'voice inside my head', 'url': None, 'entities': {'description': {'urls': []}}, 'protected': False, 'followers_count': 3, 'friends_count': 16, 'listed_count': 0, 'created_at': 'Sun Feb 02 10:56:17 +0000 2020', 'favourites_count': 6, 'utc_offset': None, 'time_zone': None, 'geo_enabled': False, 'verified': False, 'statuses_count': 7, 'lang': None, 'contributors_enabled': False, 'is_translator': False, 'is_translation_enabled': False, 'profile_background_color': 'F5F8FA', 'profile_background_image_url': None, 'profile_background_image_url_https': None, 'profile_background_tile': False, 'profile_image_url': 'http://pbs.twimg.com/profile_images/1223924771227746304/zPIEVVWk_normal.jpg', 'profile_image_url_https': 'https://pbs.twimg.com/profile_images/1223924771227746304/zPIEVVWk_normal.jpg', 'profile_banner_url': 'https://pbs.twimg.com/profile_banners/1223923047490445312/1580641415', 'profile_link_color': '1DA1F2', 'profile_sidebar_border_color': 'C0DEED', 'profile_sidebar_fill_color': 'DDEEF6', 'profile_text_color': '333333', 'profile_use_background_image': True, 'has_extended_profile': False, 'default_profile': True, 'default_profile_image': False, 'following': False, 'follow_request_sent': False, 'notifications': False, 'translator_type': 'none'}, id=1223923047490445312, id_str='1223923047490445312', name='Alyssa', screen_name='14rg3', location='Republic of the Philippines', description='voice inside my head', url=None, entities={'description': {'urls': []}}, protected=False, followers_count=3, friends_count=16, listed_count=0, created_at=datetime.datetime(2020, 2, 2, 10, 56, 17), favourites_count=6, utc_offset=None, time_zone=None, geo_enabled=False, verified=False, statuses_count=7, lang=None, contributors_enabled=False, is_translator=False, is_translation_enabled=False, profile_background_color='F5F8FA', profile_background_image_url=None, profile_background_image_url_https=None, profile_background_tile=False, profile_image_url='http://pbs.twimg.com/profile_images/1223924771227746304/zPIEVVWk_normal.jpg', profile_image_url_https='https://pbs.twimg.com/profile_images/1223924771227746304/zPIEVVWk_normal.jpg', profile_banner_url='https://pbs.twimg.com/profile_banners/1223923047490445312/1580641415', profile_link_color='1DA1F2', profile_sidebar_border_color='C0DEED', profile_sidebar_fill_color='DDEEF6', profile_text_color='333333', profile_use_background_image=True, has_extended_profile=False, default_profile=True, default_profile_image=False, following=False, follow_request_sent=False, notifications=False, translator_type='none'), geo=None, coordinates=None, place=None, contributors=None, is_quote_status=False, retweet_count=0, favorite_count=0, favorited=False, retweeted=False, lang='en')"
            ]
          },
          "metadata": {
            "tags": []
          },
          "execution_count": 3
        }
      ]
    },
    {
      "cell_type": "code",
      "metadata": {
        "id": "qR0mexHSA4PD"
      },
      "source": [
        "max_tweets = 150\n",
        "screen_name = 'realDonaldTrump'\n",
        "\n",
        "tweets = api.user_timeline(screen_name = screen_name,\n",
        "                           tweet_mode = 'extended',\n",
        "                           count = max_tweets)"
      ],
      "execution_count": 4,
      "outputs": []
    },
    {
      "cell_type": "code",
      "metadata": {
        "id": "b-Ro8sdyA4PG"
      },
      "source": [
        "import json\n",
        "\n",
        "list_of_dicts = []\n",
        "for json_tweet in tweets:\n",
        "    list_of_dicts.append(json_tweet._json)\n",
        "\n",
        "with open('trump-150-tweets.txt', mode = 'w') as file:\n",
        "        file.write(json.dumps(list_of_dicts, indent = 4))"
      ],
      "execution_count": 5,
      "outputs": []
    },
    {
      "cell_type": "markdown",
      "metadata": {
        "id": "vpGUEdlmA4PI"
      },
      "source": [
        "**Task 1**: Read the file 'trump-150-tweets.txt' that consists of a list of tweets in the form of JSON objects (dictionaries) \n",
        "    into a new list of simpler dictionaries. Each of these simpler dictionaries should contain only the following keys:  'text', 'favorite_count', 'retweet_count' and 'created_at' as shown below."
      ]
    },
    {
      "cell_type": "code",
      "metadata": {
        "id": "zxO--ib8A4PI"
      },
      "source": [
        "new_list = []\n",
        "\n",
        "with open('trump-150-tweets.txt', mode = 'r', encoding = 'utf-8') as file:\n",
        "  list_of_dicts = json.load(file)\n",
        "\n",
        "tweet_list = []\n",
        "for tweet in list_of_dicts:\n",
        "  list_per_tweet = []\n",
        "  text = tweet[\"full_text\"]\n",
        "  fav_count = tweet[\"favorite_count\"]\n",
        "  rt_count = tweet[\"retweet_count\"]\n",
        "  created_at = tweet[\"created_at\"]\n",
        "  list_per_tweet.extend((text, fav_count, rt_count, created_at))\n",
        "  tweet_list.append(list_per_tweet)"
      ],
      "execution_count": 6,
      "outputs": []
    },
    {
      "cell_type": "code",
      "metadata": {
        "id": "wesXVUfYJzbz",
        "outputId": "d2d5e3de-be31-4470-b054-4e46da21a8a4",
        "colab": {
          "base_uri": "https://localhost:8080/",
          "height": 54
        }
      },
      "source": [
        "print(tweet_list[1])"
      ],
      "execution_count": 7,
      "outputs": [
        {
          "output_type": "stream",
          "text": [
            "['RT @GaryCoby: “Joe Biden will smile in your face and stab you in the back...\\n\\nDeceiving and lying to the American people.”\\n\\nAmerica wants a…', 0, 1642, 'Wed Sep 30 05:16:28 +0000 2020']\n"
          ],
          "name": "stdout"
        }
      ]
    },
    {
      "cell_type": "markdown",
      "metadata": {
        "id": "YwmzD77AA4PN"
      },
      "source": [
        "**Task 2**: Read the list with the simplified tweets into a pandas DataFrame and display the DataFrame."
      ]
    },
    {
      "cell_type": "code",
      "metadata": {
        "id": "uUYrSs9xKLao",
        "outputId": "b72587e1-351c-4084-8de6-73c2392628c8",
        "colab": {
          "base_uri": "https://localhost:8080/",
          "height": 195
        }
      },
      "source": [
        "import pandas as pd\n",
        "\n",
        "tweet_df = pd.DataFrame(tweet_list, columns = [\"Text\", \"Favorite Count\", \"Retweet Count\", \"Created At\"] )\n",
        "tweet_df.head(5)"
      ],
      "execution_count": 8,
      "outputs": [
        {
          "output_type": "execute_result",
          "data": {
            "text/html": [
              "<div>\n",
              "<style scoped>\n",
              "    .dataframe tbody tr th:only-of-type {\n",
              "        vertical-align: middle;\n",
              "    }\n",
              "\n",
              "    .dataframe tbody tr th {\n",
              "        vertical-align: top;\n",
              "    }\n",
              "\n",
              "    .dataframe thead th {\n",
              "        text-align: right;\n",
              "    }\n",
              "</style>\n",
              "<table border=\"1\" class=\"dataframe\">\n",
              "  <thead>\n",
              "    <tr style=\"text-align: right;\">\n",
              "      <th></th>\n",
              "      <th>Text</th>\n",
              "      <th>Favorite Count</th>\n",
              "      <th>Retweet Count</th>\n",
              "      <th>Created At</th>\n",
              "    </tr>\n",
              "  </thead>\n",
              "  <tbody>\n",
              "    <tr>\n",
              "      <th>0</th>\n",
              "      <td>RT @DarrellIssa: Tonight, Joe Biden made it cl...</td>\n",
              "      <td>0</td>\n",
              "      <td>2707</td>\n",
              "      <td>Wed Sep 30 05:17:24 +0000 2020</td>\n",
              "    </tr>\n",
              "    <tr>\n",
              "      <th>1</th>\n",
              "      <td>RT @GaryCoby: “Joe Biden will smile in your fa...</td>\n",
              "      <td>0</td>\n",
              "      <td>1642</td>\n",
              "      <td>Wed Sep 30 05:16:28 +0000 2020</td>\n",
              "    </tr>\n",
              "    <tr>\n",
              "      <th>2</th>\n",
              "      <td>RT @TimRunsHisMouth: If you still can't figure...</td>\n",
              "      <td>0</td>\n",
              "      <td>3309</td>\n",
              "      <td>Wed Sep 30 05:12:43 +0000 2020</td>\n",
              "    </tr>\n",
              "    <tr>\n",
              "      <th>3</th>\n",
              "      <td>RT @KLF: BIDEN tonight: “The Green New Deal is...</td>\n",
              "      <td>0</td>\n",
              "      <td>3365</td>\n",
              "      <td>Wed Sep 30 05:11:33 +0000 2020</td>\n",
              "    </tr>\n",
              "    <tr>\n",
              "      <th>4</th>\n",
              "      <td>RT @RealSaavedra: Biden has repeatedly failed ...</td>\n",
              "      <td>0</td>\n",
              "      <td>2471</td>\n",
              "      <td>Wed Sep 30 05:11:02 +0000 2020</td>\n",
              "    </tr>\n",
              "  </tbody>\n",
              "</table>\n",
              "</div>"
            ],
            "text/plain": [
              "                                                Text  ...                      Created At\n",
              "0  RT @DarrellIssa: Tonight, Joe Biden made it cl...  ...  Wed Sep 30 05:17:24 +0000 2020\n",
              "1  RT @GaryCoby: “Joe Biden will smile in your fa...  ...  Wed Sep 30 05:16:28 +0000 2020\n",
              "2  RT @TimRunsHisMouth: If you still can't figure...  ...  Wed Sep 30 05:12:43 +0000 2020\n",
              "3  RT @KLF: BIDEN tonight: “The Green New Deal is...  ...  Wed Sep 30 05:11:33 +0000 2020\n",
              "4  RT @RealSaavedra: Biden has repeatedly failed ...  ...  Wed Sep 30 05:11:02 +0000 2020\n",
              "\n",
              "[5 rows x 4 columns]"
            ]
          },
          "metadata": {
            "tags": []
          },
          "execution_count": 8
        }
      ]
    },
    {
      "cell_type": "markdown",
      "metadata": {
        "id": "UeJwBp9_A4PQ"
      },
      "source": [
        "**Task 3**: Generate a list 'text_list' that contains the texts of each tweet and print this list as shown below."
      ]
    },
    {
      "cell_type": "code",
      "metadata": {
        "id": "fqmJXlH2bYYz",
        "outputId": "45a7485a-586a-492e-c567-f9db7b78ae50",
        "colab": {
          "base_uri": "https://localhost:8080/",
          "height": 1000
        }
      },
      "source": [
        "text_list = tweet_df[\"Text\"].tolist()\n",
        "text_list"
      ],
      "execution_count": 9,
      "outputs": [
        {
          "output_type": "execute_result",
          "data": {
            "text/plain": [
              "['RT @DarrellIssa: Tonight, Joe Biden made it clear that if he’s elected he’s prepared to perpetually lockdown the American people, shut the…',\n",
              " 'RT @GaryCoby: “Joe Biden will smile in your face and stab you in the back...\\n\\nDeceiving and lying to the American people.”\\n\\nAmerica wants a…',\n",
              " \"RT @TimRunsHisMouth: If you still can't figure out why the American public doesn't trust the media... just rewatch Chris Wallace's performa…\",\n",
              " 'RT @KLF: BIDEN tonight: “The Green New Deal is not my plan.” \\n\\nBIDEN website: “Biden believes the Green New Deal is a crucial framework…”…',\n",
              " 'RT @RealSaavedra: Biden has repeatedly failed to answer legitimate questions that American voters should know the answers to before voting…',\n",
              " 'RT @BrandonStraka: @realDonaldTrump You cleaned his clock. Full stop. \\nThe American ppl give a damn about 2 things right now: leftist viole…',\n",
              " 'RT @philipttirino: The American people didn’t elect @realDonaldTrump to play nice guy.',\n",
              " \"RT @abigailmarone: It's literal insanity watching the lamestream media pretend there are no issues with universal vote by mail.\\n\\nBallots ar…\",\n",
              " 'RT @TrumpWarRoom: Tonight, the American people witnessed President Trump deliver a strong, focused debate performance—a stark contrast from…',\n",
              " 'RT @mikehahn_: Chris Wallace owes @realDonaldTrump and the American People an apology after the way he conducted himself tonight!',\n",
              " 'RT @Rockprincess818: Chris Wallace personified why the American public at large distrust the media.',\n",
              " 'RT @thebradfordfile: Trump won the presidency because he is not a politician. He is a fighter for the American people.\\n\\nAnd that is why he…',\n",
              " 'https://t.co/HUSFkHqsyC',\n",
              " 'RT @TyCardon: Regardless who you’re pulling for, I think we can all agree that Joe Rogan would do a much better job moderating this thing t…',\n",
              " 'RT @realDonaldTrump: Rigged Election!',\n",
              " 'https://t.co/58ssX7EfUj',\n",
              " 'Volunteer to be a Trump Election Poll Watcher. Sign up today! #MakeAmericaGreatAgain \\nhttps://t.co/8m0dNPTtt6',\n",
              " 'https://t.co/gsFSgh2KPc',\n",
              " '“EPA: One Trillion Trees Initiative will build on President Donald Trump’s commitment” https://t.co/qQZqgqUrSK',\n",
              " 'https://t.co/jp3tPy1X1a',\n",
              " 'https://t.co/sgXAEojqjj https://t.co/lzWOUbQ5MV',\n",
              " 'Joe Biden could not name a single Law Enforcement group that supports his candidacy!',\n",
              " 'https://t.co/EMFDxIuyJs',\n",
              " 'https://t.co/WMOXjAY8AY',\n",
              " 'https://t.co/runkw7pxyv',\n",
              " 'The American people want LAW &amp; ORDER — Joe Biden won’t even say those words!',\n",
              " 'https://t.co/LFOSsWB58M',\n",
              " '“The Fraternal Order of Police\\xa0endorsed\\xa0President Trump’s reelection, saying he has the ‘full and enthusiastic support’ of its more than 355,000 members.” https://t.co/ce8DjFNkHt',\n",
              " 'https://t.co/73kpVWrugh',\n",
              " 'https://t.co/gF4VmXWFoK',\n",
              " 'https://t.co/LnBpKJE9yi',\n",
              " 'https://t.co/UwyDwoDQgp',\n",
              " 'https://t.co/w6Vlywaesb',\n",
              " 'https://t.co/kWxETQoUUN',\n",
              " 'https://t.co/RF65Ne3ZyL',\n",
              " 'https://t.co/5d45jekGfc',\n",
              " 'I did more in 47 months as President than Joe Biden did in 47 years! https://t.co/Qa7U3pKxtE',\n",
              " 'https://t.co/UE6Ut2saTh',\n",
              " 'If we listened to Joe Biden on coronavirus, millions of people would have died! https://t.co/zFRTHPIWwW',\n",
              " 'Joe wants to shut down this Country. I want to keep it OPEN!',\n",
              " 'https://t.co/PRniUgzs3E',\n",
              " 'https://t.co/p4zXjaryyQ',\n",
              " 'RT @TeamTrump: Joe Biden refuses to answer questions on whether or not he would pack the Supreme Court\\n\\n#Debates2020 https://t.co/FiOQxlg4PL',\n",
              " 'https://t.co/DzCU5knvnM',\n",
              " 'RT @TrumpWarRoom: FactCheck..org: “Joe Biden was wrong when he said that the Trump administration made no effort to get U.S. medical expert…',\n",
              " 'https://t.co/9K5W3tOayt',\n",
              " 'RT @TrumpWarRoom: The public option championed by Joe Biden will kill the private insurance plans held by millions of Americans, a fact tha…',\n",
              " 'https://t.co/7pyBveEvkS https://t.co/DPbILlNXFY',\n",
              " 'When Joe Biden was VP...https://t.co/Ps7Qd08y6t',\n",
              " 'RT @TrumpWarRoom: Joe Biden in 2017 on President Trump\\'s Supreme Court nominees:\\n\\n\"In my view, [senators] are required to give the nominee…',\n",
              " 'RT @TeamTrump: WATCH LIVE: First Presidential Debate #Debates2020\\n\\nText VOTE to 88022  https://t.co/ZsXuo0wpxa',\n",
              " 'Wow. Won’t let Poll Watchers &amp; Security into Philadelphia Voting Places. There is only one reason why. Corruption!!! Must have a fair Election.',\n",
              " 'Just arrived in the Great State of Ohio. Real Polls have us leading by even more than 2016. With Biden being against Fracking (Energy &amp; Jobs) &amp; your Second Amendment, we should be in very good shape!',\n",
              " 'RT @EricTrump: Does it shock anyone that poll watchers are being blocked and kicked out of voting locations in Philly? We are in court righ…',\n",
              " 'https://t.co/gsFSghkmdM',\n",
              " 'A GREAT HONOR, THANK YOU!! https://t.co/OpgQwAPPtV',\n",
              " \"Our Great 1st Amendment, our Great 2nd Amendment, our right to worship God &amp; so much more comes down to one vote on the Court. @TedCruz has a fantastic new book, “One Vote Away”, out today! It's the best book to read as we fight to #ConfirmACB to #SCOTUS. https://t.co/M9xyXiUti2\",\n",
              " 'RT @BreitbartNews: Tom Fitton: Americans weren’t generally aware of Joe and Hunter Biden’s shenanigans in Ukraine, but Obama’s State Depart…',\n",
              " 'Rigged Election! https://t.co/ysYCBCyxf8',\n",
              " 'RT @michellemalkin: ICYMI - @stevedraz, the driving force in Minnesota state legislature on @ilhan-related investigations of campaign finan…',\n",
              " 'RT @BorisEP: MUST WATCH! Democrats #CashForBallots scheme exposed. https://t.co/MxhhjaHRKr',\n",
              " 'RT @SallyGold: “At this point, the BOE does not know how many voters may be affected or how it will remedy the problem.”',\n",
              " 'RT @athomeinbklyn: And this is the smallest of the problems being reported today as the requested absentee ballots begin to arrive.\\n\\nPeople…',\n",
              " 'RT @JamesAGagliano: Voters across Queens have received mail-in ballots for the 2020 presidential election marked for military use despite n…',\n",
              " 'RT @thehill: New York City Board of Elections says vendor error led to voters getting mail-in ballots with return envelopes containing wron…',\n",
              " 'RT @rtraister: We got our ballots today--great. Then I opened them. In the one addressed to me: a ballot &amp; envelope bearing the name of ano…',\n",
              " 'Now Fake News @CNN is actually reporting that I wanted my daughter, Ivanka, to run with me as my Vice President in 2016 Election. Wrong and totally ridiculous. These people are sick!',\n",
              " 'Might as well mention this because it will never be reported by the Lamestream Media! https://t.co/5qqZrr9hXz',\n",
              " 'RT @realDonaldTrump: https://t.co/FnFGjzd2er',\n",
              " 'RT @realDonaldTrump: https://t.co/h4Ft5zhcmL',\n",
              " 'RT @realDonaldTrump: https://t.co/J0tnBeIz6x',\n",
              " 'RT @JamesOKeefeIII: BREAKING: Omar Connected Harvester SEEN Exchanging $200 for General Election Ballot.\"We don\\'t care illegal.\"...\"We are…',\n",
              " 'https://t.co/jfbuPtqYz0',\n",
              " 'WOW! https://t.co/rKu2PTcxxv',\n",
              " 'https://t.co/PAw9oibHyx',\n",
              " 'https://t.co/AOmhFwjxKC',\n",
              " 'https://t.co/FnFGjzd2er',\n",
              " 'https://t.co/h4Ft5zhcmL',\n",
              " 'https://t.co/J0tnBeIz6x',\n",
              " 'Thank you #Truckers4Trump! \\nhttps://t.co/leBrV3wo0J',\n",
              " 'https://t.co/fsVQbvjlnx',\n",
              " 'RT @TeamTrump: President @realDonaldTrump on Lordstown Motors in #Ohio: The area is \"absolutely booming\" now https://t.co/BZ1Smy8mJT',\n",
              " 'RT @WhiteHouse: This morning, President @realDonaldTrump congratulated Lordstown Motors of Lordstown, Ohio, on their manufacturing of the 2…',\n",
              " 'RT @GOPChairwoman: .@DonaldJTrumpJr is spot on.\\n\\n@realDonaldTrump has actually created jobs, while Joe Biden has just talked about it for 5…',\n",
              " \"RT @TeamTrump: President @realDonaldTrump's administration has built the most advanced testing system in the world from scratch https://t.c…\",\n",
              " \"RT @GOPLeader: Republicans will rebuild the greatest economy in history. We've done it once with President @realdonaldTrump—and we will do…\",\n",
              " 'The “Trump Doctrine” earns President Trump a third Nobel Peace Prize Nomination! @LouDobbs',\n",
              " 'RT @WhiteHouse: LIVE: President @realDonaldTrump gives an update on Coronavirus Testing Strategy https://t.co/Dp6FAknavO',\n",
              " 'RT @GLFOP: .@realDonaldTrump: “I’m proud to have received the first ever unanimous endorsement from the largest police union in the world—t…',\n",
              " 'https://t.co/gsFSghkmdM',\n",
              " 'Joe Biden just announced that he will not agree to a Drug Test. Gee, I wonder why?',\n",
              " '.....Financial Statements, from  the time I announced I was going to run for President,  showing all properties, assets and debts. It is a very IMPRESSIVE Statement, and also shows that I am the only President on record to give up my yearly $400,000 plus Presidential Salary!',\n",
              " '.....Also, if you look at the extraordinary assets owned by me, which the Fake News hasn’t, I am extremely under leveraged - I have very little debt compared to the value of assets. Much of this information is already on file, but I have long said that I may release....',\n",
              " 'The Fake News Media, just like Election time 2016, is bringing up my Taxes &amp; all sorts of other nonsense with illegally obtained information &amp; only bad intent. I paid many millions of dollars in taxes but was entitled, like everyone else, to depreciation &amp; tax credits.....',\n",
              " 'The Ballots being returned to States cannot be accurately counted. Many things are already going very wrong!',\n",
              " \"RT @DavidJHarrisJr: Maybe the Clintons won't get away it after all.\\nhttps://t.co/fj6SJmfAH4\",\n",
              " 'Great book! https://t.co/H6J5JLW1mF',\n",
              " 'RT @DavidJHarrisJr: Project Veritas does it again!\\nhttps://t.co/qoFnViEEkd',\n",
              " 'RT @stillgray: Project Veritas exposes Ilhan Omar-connected cash-for-votes ballot harvesting scheme.\\n\\nhttps://t.co/vcyb2syHWk',\n",
              " 'RT @SaraCarterDC: ELECTION FRAUD: Project Veritas @JamesOKeefeIII uncovers alleged ballot harvesting in Rep. Ilahn Omar’s district\\n\\nLooks l…',\n",
              " 'RT @JamesOKeefeIII: Project Veritas uncovers ‘ballot harvesting fraud’ in Minnesota: @mirandadevine @nypost \\n\\n#BallotHarvesting \\nhttps://t.…',\n",
              " 'This is totally illegal. Hope that the U.S. Attorney in Minnesota has this, and other of her many misdeeds, under serious review??? If not, why not??? We will win Minnesota because of her, and law enforcement. Saved Minneapolis &amp; Iron O Range! https://t.co/yete31P680',\n",
              " 'FAKE NEWS!',\n",
              " 'RT @WhiteHouse: LIVE: President @realDonaldTrump holds a news conference https://t.co/cNOWdtlxGC',\n",
              " 'https://t.co/4JIZoFZAl4',\n",
              " \"RT @TrumpWarRoom: WATCH: After Joe Biden's brain freezes, MSNBC anchor has to feed him a line https://t.co/pymKXjlqhf\",\n",
              " 'https://t.co/iKDViFDlxD',\n",
              " 'https://t.co/S72PSSLwtk',\n",
              " 'RT @realDonaldTrump: I will be strongly demanding a Drug Test of Sleepy Joe Biden prior to, or after, the Debate on Tuesday night. Naturall…',\n",
              " 'Obamacare will be replaced with a MUCH better, and FAR cheaper, alternative if it is terminated in the Supreme Court. Would be a big WIN for the USA!',\n",
              " 'WATCH THE BALLOTS!!!',\n",
              " 'Wow, nobody realized how far Mini Mike Bloomberg went in bribing ex-prisoners to go out and vote for Sleepy Joe. He is desperate to get back into the good graces of the people who not only badly beat him, but made him look like a total fool. Now he’s committed a serious crime!',\n",
              " 'YES, for many years, and hundreds of times a year. He is a Senatorial JOKE! https://t.co/Yvtt9FWzZK',\n",
              " 'Hanoi Dick, who lied for years by saying he was a war hero in Vietnam, and was never even there (Impeach him!), should not be entitled to a vote on anything of importance! https://t.co/QC2zv4IhYJ',\n",
              " 'I will be strongly demanding a Drug Test of Sleepy Joe Biden prior to, or after, the Debate on Tuesday night. Naturally, I will agree to take one also. His Debate performances have been record setting UNEVEN, to put it mildly. Only drugs could have caused this discrepancy???',\n",
              " 'RT @SteveDaines: Judge Barrett will defend our Montana way of life from those that want to take away our 2nd Amendment rights and destroy o…',\n",
              " 'RT @SenatorLankford: I supported her nomination in 2017 for the Court of Appeals, and I look forward to working through the process of advi…',\n",
              " 'RT @SenJohnBarrasso: My congratulations to Judge Barrett on her #SCOTUS nomination. I look forward to reviewing her judicial record &amp; other…',\n",
              " 'RT @SenatorWicker: Amy Coney Barrett is an outstanding judge and an even better person. I commend President Trump on another exceptional pi…',\n",
              " 'RT @JimInhofe: .@realDonaldTrump made the right choice by choosing Amy Coney Barrett to serve on the Supreme Court. Throughout her career,…',\n",
              " \"RT @SenToddYoung: I am thrilled with @POTUS’s nomination of fellow Hoosier, Judge Amy Coney Barrett, to serve on the Supreme Court. I've co…\",\n",
              " 'RT @SenRickScott: I applaud President @realDonaldTrump’s nomination of Amy Coney Barrett to service on the U.S. Supreme Court. \\n\\nShe is a b…',\n",
              " 'RT @SenatorTimScott: While Senate Democrats have already shown they are more than happy to belittle her faith through baseless partisan att…',\n",
              " 'RT @SenToomey: I am pleased that President Trump has nominated Judge Amy Coney Barrett to sit on the U.S. Supreme Court.',\n",
              " 'RT @SenJohnThune: My statement on the president’s nomination of Judge Amy Coney Barrett to serve on the Supreme Court⬇️. While I look forwa…',\n",
              " 'RT @SenKevinCramer: Excellent choice, President @realDonaldTrump.\\n\\nJudge Amy Coney Barrett seems made for this moment.\\n\\nShe’s a brilliant l…',\n",
              " 'RT @LindseyGrahamSC: @realDonaldTrump As the Chairman of the @senjudiciary Committee, I’m very committed to ensuring the nominee gets a cha…',\n",
              " 'RT @SenRubioPress: Senator Rubio issued the following statement regarding the nomination of Amy Coney Barrett to the U.S. Supreme Court.\\n\\nR…',\n",
              " 'RT @senatemajldr: Judge Amy Coney Barrett is an exceptionally impressive jurist and an exceedingly well-qualified nominee to the Supreme Co…',\n",
              " 'RT @SenShelby: Judge Barrett is an excellent choice and will make a great Supreme Court Justice. I will enthusiastically support her confir…',\n",
              " 'RT @GOP: “Well, we won Pennsylvania last time and we’re going to win it by a lot more this time.” -@realDonaldTrump',\n",
              " 'RT @GOP: “Judge Barrett is a brilliant legal mind … Most important of all, she will defend your God-given rights and freedoms.”  -@realDona…',\n",
              " 'RT @GOP: I’ve just come from the Rose Garden of the White House where I proudly nominated Judge Amy Coney Barrett to the United States Supr…',\n",
              " 'RT @GOP: “I’ll keep your jobs in Pennsylvania where they belong!” -@realDonaldTrump',\n",
              " 'RT @TeamTrump: President @realDonaldTrump highlights mail-in voter fraud https://t.co/YmtoumEYxk',\n",
              " 'RT @GOP: Patrick Yoes, President of the National Fraternal Order of Police to @realDonaldTrump:\\n \\n“You sir, have never turned your back on…',\n",
              " 'RT @TommyHicksGOP: President @realDonaldTrump is upholding his constitutional duty by swiftly nominating someone to the Supreme Court.\\n \\nHi…',\n",
              " 'RT @GOPChairwoman: Judge Amy Coney Barrett is a remarkable nominee, and the Senate should confirm her without delay.\\n \\nThe RNC is investing…',\n",
              " 'Today, it was my great honor to nominate one of our nation’s most brilliant and gifted legal minds to the Supreme Court. She is a woman of unparalleled achievement, towering intellect, sterling credentials, and unyielding loyalty to the Constitution: Judge Amy Coney Barrett... https://t.co/l2yezt2UOi',\n",
              " 'RT @AmericaFirstPol: 🚨 Must-read:\\n\\n\"Judge Barrett’s extensive experience as a professor and litigator, record of academic success, and outs…',\n",
              " 'RT @SenTomCotton: Judge Amy Coney Barrett is one of the finest legal minds of her generation and has now proven to be a wise judge as well.…',\n",
              " 'RT @ChuckGrassley: Judge Barrett is an inspiring American+highly respected jurist She’s an excellent choice for Supreme Ct When hearings be…',\n",
              " 'RT @MarshaBlackburn: Congratulations to the Honorable Amy Coney Barrett. Judge Barrett is an outstanding jurist and a committed constitutio…',\n",
              " 'RT @SenSasse: Judge Barrett is a brilliant legal thinker and will be an excellent Supreme Court Justice. https://t.co/e9NQJreV7h',\n",
              " 'RT @LindseyGrahamSC: Judge Barrett is highly qualified in all the areas that matter – character, integrity, intellect, and judicial disposi…',\n",
              " 'For years you had a President who apologized for America - now you have a President who is standing up for America, and standing up for Pennsylvania. So get your friends, get your family, get your neighbors &amp; co-workers, and GET OUT &amp; VOTE! Early voting has already begun — VOTE! https://t.co/9LtXuWWCRV',\n",
              " 'Together, we are taking back our Country. We are returning power to YOU, the American People. With your help, your devotion, &amp; your drive, we are going to keep on working, we are going to keep on fighting, &amp; we are going to keep ON WINNING! Get out &amp; VOTE! https://t.co/gsFSgh2KPc https://t.co/oH6yltKd44',\n",
              " 'In just 3 and a half years, we have secured America’s Borders, rebuilt the awesome power of the U.S. Military, obliterated the ISIS caliphate, fixed our disastrous Trade Deals, and brought JOBS back home to America – and back to PENNSYLVANIA! #MAGA https://t.co/sWHvIjl2gQ',\n",
              " 'THANK YOU PENNSYLVANIA!\\nhttps://t.co/uQwRIKTPFN',\n",
              " 'https://t.co/gfRMOu2zVM']"
            ]
          },
          "metadata": {
            "tags": []
          },
          "execution_count": 9
        }
      ]
    },
    {
      "cell_type": "markdown",
      "metadata": {
        "id": "7J8SWNlwA4PT"
      },
      "source": [
        "**Task 4**: Calculate the length of the text of each tweet and add a new column 'length' to the DataFrame."
      ]
    },
    {
      "cell_type": "code",
      "metadata": {
        "id": "MvoUDteOeESh",
        "outputId": "a29e64d5-acea-47cb-daaf-08070a10df40",
        "colab": {
          "base_uri": "https://localhost:8080/",
          "height": 195
        }
      },
      "source": [
        "len_list = []\n",
        "for tweet in text_list:\n",
        "  len_list.append(len(tweet.split()))\n",
        "\n",
        "tweet_df[\"Length\"] = len_list\n",
        "tweet_df.head(5)"
      ],
      "execution_count": 10,
      "outputs": [
        {
          "output_type": "execute_result",
          "data": {
            "text/html": [
              "<div>\n",
              "<style scoped>\n",
              "    .dataframe tbody tr th:only-of-type {\n",
              "        vertical-align: middle;\n",
              "    }\n",
              "\n",
              "    .dataframe tbody tr th {\n",
              "        vertical-align: top;\n",
              "    }\n",
              "\n",
              "    .dataframe thead th {\n",
              "        text-align: right;\n",
              "    }\n",
              "</style>\n",
              "<table border=\"1\" class=\"dataframe\">\n",
              "  <thead>\n",
              "    <tr style=\"text-align: right;\">\n",
              "      <th></th>\n",
              "      <th>Text</th>\n",
              "      <th>Favorite Count</th>\n",
              "      <th>Retweet Count</th>\n",
              "      <th>Created At</th>\n",
              "      <th>Length</th>\n",
              "    </tr>\n",
              "  </thead>\n",
              "  <tbody>\n",
              "    <tr>\n",
              "      <th>0</th>\n",
              "      <td>RT @DarrellIssa: Tonight, Joe Biden made it cl...</td>\n",
              "      <td>0</td>\n",
              "      <td>2707</td>\n",
              "      <td>Wed Sep 30 05:17:24 +0000 2020</td>\n",
              "      <td>22</td>\n",
              "    </tr>\n",
              "    <tr>\n",
              "      <th>1</th>\n",
              "      <td>RT @GaryCoby: “Joe Biden will smile in your fa...</td>\n",
              "      <td>0</td>\n",
              "      <td>1642</td>\n",
              "      <td>Wed Sep 30 05:16:28 +0000 2020</td>\n",
              "      <td>25</td>\n",
              "    </tr>\n",
              "    <tr>\n",
              "      <th>2</th>\n",
              "      <td>RT @TimRunsHisMouth: If you still can't figure...</td>\n",
              "      <td>0</td>\n",
              "      <td>3309</td>\n",
              "      <td>Wed Sep 30 05:12:43 +0000 2020</td>\n",
              "      <td>21</td>\n",
              "    </tr>\n",
              "    <tr>\n",
              "      <th>3</th>\n",
              "      <td>RT @KLF: BIDEN tonight: “The Green New Deal is...</td>\n",
              "      <td>0</td>\n",
              "      <td>3365</td>\n",
              "      <td>Wed Sep 30 05:11:33 +0000 2020</td>\n",
              "      <td>24</td>\n",
              "    </tr>\n",
              "    <tr>\n",
              "      <th>4</th>\n",
              "      <td>RT @RealSaavedra: Biden has repeatedly failed ...</td>\n",
              "      <td>0</td>\n",
              "      <td>2471</td>\n",
              "      <td>Wed Sep 30 05:11:02 +0000 2020</td>\n",
              "      <td>20</td>\n",
              "    </tr>\n",
              "  </tbody>\n",
              "</table>\n",
              "</div>"
            ],
            "text/plain": [
              "                                                Text  ...  Length\n",
              "0  RT @DarrellIssa: Tonight, Joe Biden made it cl...  ...      22\n",
              "1  RT @GaryCoby: “Joe Biden will smile in your fa...  ...      25\n",
              "2  RT @TimRunsHisMouth: If you still can't figure...  ...      21\n",
              "3  RT @KLF: BIDEN tonight: “The Green New Deal is...  ...      24\n",
              "4  RT @RealSaavedra: Biden has repeatedly failed ...  ...      20\n",
              "\n",
              "[5 rows x 5 columns]"
            ]
          },
          "metadata": {
            "tags": []
          },
          "execution_count": 10
        }
      ]
    },
    {
      "cell_type": "markdown",
      "metadata": {
        "id": "etZat8iFA4PV"
      },
      "source": [
        "**Task 5**: Plot the frequencies of the tweet lengths using a bar plot as illustrated below."
      ]
    },
    {
      "cell_type": "code",
      "metadata": {
        "id": "32Wtn7u4mSNT",
        "outputId": "51c49289-de99-4432-bb45-e8540bd534fb",
        "colab": {
          "base_uri": "https://localhost:8080/",
          "height": 340
        }
      },
      "source": [
        "import matplotlib.pyplot as plt\n",
        "\n",
        "plt.figure(figsize = (8, 5))\n",
        "tweet_df[\"Length\"].value_counts().sort_index().plot.bar()"
      ],
      "execution_count": 11,
      "outputs": [
        {
          "output_type": "execute_result",
          "data": {
            "text/plain": [
              "<matplotlib.axes._subplots.AxesSubplot at 0x7f1c783b1f60>"
            ]
          },
          "metadata": {
            "tags": []
          },
          "execution_count": 11
        },
        {
          "output_type": "display_data",
          "data": {
            "image/png": "[encoded data removed]",
            "text/plain": [
              "<Figure size 576x360 with 1 Axes>"
            ]
          },
          "metadata": {
            "tags": [],
            "needs_background": "light"
          }
        }
      ]
    },
    {
      "cell_type": "markdown",
      "metadata": {
        "id": "ICK4Jc6GA4PZ"
      },
      "source": [
        "**Task 6**: Use the information in the column 'created_at' and add a column 'hour' to the DataFrame as illustrated below."
      ]
    },
    {
      "cell_type": "code",
      "metadata": {
        "id": "_HcV_3ENR5PJ",
        "outputId": "1b6d6c66-d1c6-478c-d508-56c7f5c7dbe5",
        "colab": {
          "base_uri": "https://localhost:8080/",
          "height": 284
        }
      },
      "source": [
        "tweet_df[\"Created At\"] = pd.to_datetime(tweet_df[\"Created At\"])\n",
        "hour_list = []\n",
        "\n",
        "for h in tweet_df[\"Created At\"]:\n",
        "  hour_list.append(h.hour)\n",
        "\n",
        "tweet_df[\"Hour\"] = hour_list\n",
        "tweet_df.head(8)"
      ],
      "execution_count": 12,
      "outputs": [
        {
          "output_type": "execute_result",
          "data": {
            "text/html": [
              "<div>\n",
              "<style scoped>\n",
              "    .dataframe tbody tr th:only-of-type {\n",
              "        vertical-align: middle;\n",
              "    }\n",
              "\n",
              "    .dataframe tbody tr th {\n",
              "        vertical-align: top;\n",
              "    }\n",
              "\n",
              "    .dataframe thead th {\n",
              "        text-align: right;\n",
              "    }\n",
              "</style>\n",
              "<table border=\"1\" class=\"dataframe\">\n",
              "  <thead>\n",
              "    <tr style=\"text-align: right;\">\n",
              "      <th></th>\n",
              "      <th>Text</th>\n",
              "      <th>Favorite Count</th>\n",
              "      <th>Retweet Count</th>\n",
              "      <th>Created At</th>\n",
              "      <th>Length</th>\n",
              "      <th>Hour</th>\n",
              "    </tr>\n",
              "  </thead>\n",
              "  <tbody>\n",
              "    <tr>\n",
              "      <th>0</th>\n",
              "      <td>RT @DarrellIssa: Tonight, Joe Biden made it cl...</td>\n",
              "      <td>0</td>\n",
              "      <td>2707</td>\n",
              "      <td>2020-09-30 05:17:24+00:00</td>\n",
              "      <td>22</td>\n",
              "      <td>5</td>\n",
              "    </tr>\n",
              "    <tr>\n",
              "      <th>1</th>\n",
              "      <td>RT @GaryCoby: “Joe Biden will smile in your fa...</td>\n",
              "      <td>0</td>\n",
              "      <td>1642</td>\n",
              "      <td>2020-09-30 05:16:28+00:00</td>\n",
              "      <td>25</td>\n",
              "      <td>5</td>\n",
              "    </tr>\n",
              "    <tr>\n",
              "      <th>2</th>\n",
              "      <td>RT @TimRunsHisMouth: If you still can't figure...</td>\n",
              "      <td>0</td>\n",
              "      <td>3309</td>\n",
              "      <td>2020-09-30 05:12:43+00:00</td>\n",
              "      <td>21</td>\n",
              "      <td>5</td>\n",
              "    </tr>\n",
              "    <tr>\n",
              "      <th>3</th>\n",
              "      <td>RT @KLF: BIDEN tonight: “The Green New Deal is...</td>\n",
              "      <td>0</td>\n",
              "      <td>3365</td>\n",
              "      <td>2020-09-30 05:11:33+00:00</td>\n",
              "      <td>24</td>\n",
              "      <td>5</td>\n",
              "    </tr>\n",
              "    <tr>\n",
              "      <th>4</th>\n",
              "      <td>RT @RealSaavedra: Biden has repeatedly failed ...</td>\n",
              "      <td>0</td>\n",
              "      <td>2471</td>\n",
              "      <td>2020-09-30 05:11:02+00:00</td>\n",
              "      <td>20</td>\n",
              "      <td>5</td>\n",
              "    </tr>\n",
              "    <tr>\n",
              "      <th>5</th>\n",
              "      <td>RT @BrandonStraka: @realDonaldTrump You cleane...</td>\n",
              "      <td>0</td>\n",
              "      <td>2994</td>\n",
              "      <td>2020-09-30 05:08:38+00:00</td>\n",
              "      <td>22</td>\n",
              "      <td>5</td>\n",
              "    </tr>\n",
              "    <tr>\n",
              "      <th>6</th>\n",
              "      <td>RT @philipttirino: The American people didn’t ...</td>\n",
              "      <td>0</td>\n",
              "      <td>3445</td>\n",
              "      <td>2020-09-30 05:02:54+00:00</td>\n",
              "      <td>12</td>\n",
              "      <td>5</td>\n",
              "    </tr>\n",
              "    <tr>\n",
              "      <th>7</th>\n",
              "      <td>RT @abigailmarone: It's literal insanity watch...</td>\n",
              "      <td>0</td>\n",
              "      <td>2118</td>\n",
              "      <td>2020-09-30 05:02:36+00:00</td>\n",
              "      <td>21</td>\n",
              "      <td>5</td>\n",
              "    </tr>\n",
              "  </tbody>\n",
              "</table>\n",
              "</div>"
            ],
            "text/plain": [
              "                                                Text  ...  Hour\n",
              "0  RT @DarrellIssa: Tonight, Joe Biden made it cl...  ...     5\n",
              "1  RT @GaryCoby: “Joe Biden will smile in your fa...  ...     5\n",
              "2  RT @TimRunsHisMouth: If you still can't figure...  ...     5\n",
              "3  RT @KLF: BIDEN tonight: “The Green New Deal is...  ...     5\n",
              "4  RT @RealSaavedra: Biden has repeatedly failed ...  ...     5\n",
              "5  RT @BrandonStraka: @realDonaldTrump You cleane...  ...     5\n",
              "6  RT @philipttirino: The American people didn’t ...  ...     5\n",
              "7  RT @abigailmarone: It's literal insanity watch...  ...     5\n",
              "\n",
              "[8 rows x 6 columns]"
            ]
          },
          "metadata": {
            "tags": []
          },
          "execution_count": 12
        }
      ]
    },
    {
      "cell_type": "markdown",
      "metadata": {
        "id": "B1hwNhimA4Pc"
      },
      "source": [
        "**Task 7**: Use a bar plot and plot the frequencies of the times at which tweets were sent (at hourly intervals)."
      ]
    },
    {
      "cell_type": "code",
      "metadata": {
        "id": "3h7WDFdNxaVo",
        "outputId": "f26ace63-1004-432a-ca43-fc5beaed869a",
        "colab": {
          "base_uri": "https://localhost:8080/",
          "height": 340
        }
      },
      "source": [
        "plt.figure(figsize = (8, 5))\n",
        "tweet_df[\"Hour\"].value_counts().sort_index().plot.bar()"
      ],
      "execution_count": 13,
      "outputs": [
        {
          "output_type": "execute_result",
          "data": {
            "text/plain": [
              "<matplotlib.axes._subplots.AxesSubplot at 0x7f1c782307f0>"
            ]
          },
          "metadata": {
            "tags": []
          },
          "execution_count": 13
        },
        {
          "output_type": "display_data",
          "data": {
            "image/png": "[encoded data removed]",
            "text/plain": [
              "<Figure size 576x360 with 1 Axes>"
            ]
          },
          "metadata": {
            "tags": [],
            "needs_background": "light"
          }
        }
      ]
    },
    {
      "cell_type": "markdown",
      "metadata": {
        "id": "Uagm1Ii9A4Pe"
      },
      "source": [
        "**Task 8**: Use a regular expression that finds the hashtags in the tweets ('text'), add them to a new column 'hashtag' and display the resulting DataFrame. "
      ]
    },
    {
      "cell_type": "code",
      "metadata": {
        "id": "wf4iGS9zgU7t",
        "outputId": "436271c3-e7f3-482f-c65b-cfd70ac3e93b",
        "colab": {
          "base_uri": "https://localhost:8080/",
          "height": 402
        }
      },
      "source": [
        "import re\n",
        "\n",
        "hash_list = []\n",
        "for tweet in text_list:\n",
        "  hash_list.append(re.findall(r'#(\\w+)', tweet))\n",
        "\n",
        "tweet_df[\"Hashtags\"] = hash_list\n",
        "tweet_df"
      ],
      "execution_count": 14,
      "outputs": [
        {
          "output_type": "execute_result",
          "data": {
            "text/html": [
              "<div>\n",
              "<style scoped>\n",
              "    .dataframe tbody tr th:only-of-type {\n",
              "        vertical-align: middle;\n",
              "    }\n",
              "\n",
              "    .dataframe tbody tr th {\n",
              "        vertical-align: top;\n",
              "    }\n",
              "\n",
              "    .dataframe thead th {\n",
              "        text-align: right;\n",
              "    }\n",
              "</style>\n",
              "<table border=\"1\" class=\"dataframe\">\n",
              "  <thead>\n",
              "    <tr style=\"text-align: right;\">\n",
              "      <th></th>\n",
              "      <th>Text</th>\n",
              "      <th>Favorite Count</th>\n",
              "      <th>Retweet Count</th>\n",
              "      <th>Created At</th>\n",
              "      <th>Length</th>\n",
              "      <th>Hour</th>\n",
              "      <th>Hashtags</th>\n",
              "    </tr>\n",
              "  </thead>\n",
              "  <tbody>\n",
              "    <tr>\n",
              "      <th>0</th>\n",
              "      <td>RT @DarrellIssa: Tonight, Joe Biden made it cl...</td>\n",
              "      <td>0</td>\n",
              "      <td>2707</td>\n",
              "      <td>2020-09-30 05:17:24+00:00</td>\n",
              "      <td>22</td>\n",
              "      <td>5</td>\n",
              "      <td>[]</td>\n",
              "    </tr>\n",
              "    <tr>\n",
              "      <th>1</th>\n",
              "      <td>RT @GaryCoby: “Joe Biden will smile in your fa...</td>\n",
              "      <td>0</td>\n",
              "      <td>1642</td>\n",
              "      <td>2020-09-30 05:16:28+00:00</td>\n",
              "      <td>25</td>\n",
              "      <td>5</td>\n",
              "      <td>[]</td>\n",
              "    </tr>\n",
              "    <tr>\n",
              "      <th>2</th>\n",
              "      <td>RT @TimRunsHisMouth: If you still can't figure...</td>\n",
              "      <td>0</td>\n",
              "      <td>3309</td>\n",
              "      <td>2020-09-30 05:12:43+00:00</td>\n",
              "      <td>21</td>\n",
              "      <td>5</td>\n",
              "      <td>[]</td>\n",
              "    </tr>\n",
              "    <tr>\n",
              "      <th>3</th>\n",
              "      <td>RT @KLF: BIDEN tonight: “The Green New Deal is...</td>\n",
              "      <td>0</td>\n",
              "      <td>3365</td>\n",
              "      <td>2020-09-30 05:11:33+00:00</td>\n",
              "      <td>24</td>\n",
              "      <td>5</td>\n",
              "      <td>[]</td>\n",
              "    </tr>\n",
              "    <tr>\n",
              "      <th>4</th>\n",
              "      <td>RT @RealSaavedra: Biden has repeatedly failed ...</td>\n",
              "      <td>0</td>\n",
              "      <td>2471</td>\n",
              "      <td>2020-09-30 05:11:02+00:00</td>\n",
              "      <td>20</td>\n",
              "      <td>5</td>\n",
              "      <td>[]</td>\n",
              "    </tr>\n",
              "    <tr>\n",
              "      <th>...</th>\n",
              "      <td>...</td>\n",
              "      <td>...</td>\n",
              "      <td>...</td>\n",
              "      <td>...</td>\n",
              "      <td>...</td>\n",
              "      <td>...</td>\n",
              "      <td>...</td>\n",
              "    </tr>\n",
              "    <tr>\n",
              "      <th>145</th>\n",
              "      <td>For years you had a President who apologized f...</td>\n",
              "      <td>114586</td>\n",
              "      <td>28271</td>\n",
              "      <td>2020-09-27 01:26:24+00:00</td>\n",
              "      <td>52</td>\n",
              "      <td>1</td>\n",
              "      <td>[]</td>\n",
              "    </tr>\n",
              "    <tr>\n",
              "      <th>146</th>\n",
              "      <td>Together, we are taking back our Country. We a...</td>\n",
              "      <td>49225</td>\n",
              "      <td>13489</td>\n",
              "      <td>2020-09-27 01:23:23+00:00</td>\n",
              "      <td>52</td>\n",
              "      <td>1</td>\n",
              "      <td>[]</td>\n",
              "    </tr>\n",
              "    <tr>\n",
              "      <th>147</th>\n",
              "      <td>In just 3 and a half years, we have secured Am...</td>\n",
              "      <td>71294</td>\n",
              "      <td>16653</td>\n",
              "      <td>2020-09-27 01:12:59+00:00</td>\n",
              "      <td>43</td>\n",
              "      <td>1</td>\n",
              "      <td>[MAGA]</td>\n",
              "    </tr>\n",
              "    <tr>\n",
              "      <th>148</th>\n",
              "      <td>THANK YOU PENNSYLVANIA!\\nhttps://t.co/uQwRIKTPFN</td>\n",
              "      <td>57731</td>\n",
              "      <td>12810</td>\n",
              "      <td>2020-09-27 01:07:31+00:00</td>\n",
              "      <td>4</td>\n",
              "      <td>1</td>\n",
              "      <td>[]</td>\n",
              "    </tr>\n",
              "    <tr>\n",
              "      <th>149</th>\n",
              "      <td>https://t.co/gfRMOu2zVM</td>\n",
              "      <td>96014</td>\n",
              "      <td>23273</td>\n",
              "      <td>2020-09-26 21:41:16+00:00</td>\n",
              "      <td>1</td>\n",
              "      <td>21</td>\n",
              "      <td>[]</td>\n",
              "    </tr>\n",
              "  </tbody>\n",
              "</table>\n",
              "<p>150 rows × 7 columns</p>\n",
              "</div>"
            ],
            "text/plain": [
              "                                                  Text  ...  Hashtags\n",
              "0    RT @DarrellIssa: Tonight, Joe Biden made it cl...  ...        []\n",
              "1    RT @GaryCoby: “Joe Biden will smile in your fa...  ...        []\n",
              "2    RT @TimRunsHisMouth: If you still can't figure...  ...        []\n",
              "3    RT @KLF: BIDEN tonight: “The Green New Deal is...  ...        []\n",
              "4    RT @RealSaavedra: Biden has repeatedly failed ...  ...        []\n",
              "..                                                 ...  ...       ...\n",
              "145  For years you had a President who apologized f...  ...        []\n",
              "146  Together, we are taking back our Country. We a...  ...        []\n",
              "147  In just 3 and a half years, we have secured Am...  ...    [MAGA]\n",
              "148   THANK YOU PENNSYLVANIA!\\nhttps://t.co/uQwRIKTPFN  ...        []\n",
              "149                            https://t.co/gfRMOu2zVM  ...        []\n",
              "\n",
              "[150 rows x 7 columns]"
            ]
          },
          "metadata": {
            "tags": []
          },
          "execution_count": 14
        }
      ]
    },
    {
      "cell_type": "markdown",
      "metadata": {
        "id": "YEfif1SjA4Pg"
      },
      "source": [
        "**Task 9**: Use a regular expression that removes all links from the tweets ('text'), add a column 'text_without_links' and display the resulting DataFrame."
      ]
    },
    {
      "cell_type": "code",
      "metadata": {
        "id": "Rl0fh2aihaqW",
        "outputId": "df2a5af6-83a5-4baf-8422-3595255d329d",
        "colab": {
          "base_uri": "https://localhost:8080/",
          "height": 402
        }
      },
      "source": [
        "raw_text_list = []\n",
        "\n",
        "for tweet in text_list:\n",
        "  raw_text_list.append(re.sub(r'https?:\\/\\/.*[\\r\\n]*', '', tweet, flags = re.MULTILINE))\n",
        "\n",
        "tweet_df[\"without URL\"] = raw_text_list\n",
        "tweet_df"
      ],
      "execution_count": 15,
      "outputs": [
        {
          "output_type": "execute_result",
          "data": {
            "text/html": [
              "<div>\n",
              "<style scoped>\n",
              "    .dataframe tbody tr th:only-of-type {\n",
              "        vertical-align: middle;\n",
              "    }\n",
              "\n",
              "    .dataframe tbody tr th {\n",
              "        vertical-align: top;\n",
              "    }\n",
              "\n",
              "    .dataframe thead th {\n",
              "        text-align: right;\n",
              "    }\n",
              "</style>\n",
              "<table border=\"1\" class=\"dataframe\">\n",
              "  <thead>\n",
              "    <tr style=\"text-align: right;\">\n",
              "      <th></th>\n",
              "      <th>Text</th>\n",
              "      <th>Favorite Count</th>\n",
              "      <th>Retweet Count</th>\n",
              "      <th>Created At</th>\n",
              "      <th>Length</th>\n",
              "      <th>Hour</th>\n",
              "      <th>Hashtags</th>\n",
              "      <th>without URL</th>\n",
              "    </tr>\n",
              "  </thead>\n",
              "  <tbody>\n",
              "    <tr>\n",
              "      <th>0</th>\n",
              "      <td>RT @DarrellIssa: Tonight, Joe Biden made it cl...</td>\n",
              "      <td>0</td>\n",
              "      <td>2707</td>\n",
              "      <td>2020-09-30 05:17:24+00:00</td>\n",
              "      <td>22</td>\n",
              "      <td>5</td>\n",
              "      <td>[]</td>\n",
              "      <td>RT @DarrellIssa: Tonight, Joe Biden made it cl...</td>\n",
              "    </tr>\n",
              "    <tr>\n",
              "      <th>1</th>\n",
              "      <td>RT @GaryCoby: “Joe Biden will smile in your fa...</td>\n",
              "      <td>0</td>\n",
              "      <td>1642</td>\n",
              "      <td>2020-09-30 05:16:28+00:00</td>\n",
              "      <td>25</td>\n",
              "      <td>5</td>\n",
              "      <td>[]</td>\n",
              "      <td>RT @GaryCoby: “Joe Biden will smile in your fa...</td>\n",
              "    </tr>\n",
              "    <tr>\n",
              "      <th>2</th>\n",
              "      <td>RT @TimRunsHisMouth: If you still can't figure...</td>\n",
              "      <td>0</td>\n",
              "      <td>3309</td>\n",
              "      <td>2020-09-30 05:12:43+00:00</td>\n",
              "      <td>21</td>\n",
              "      <td>5</td>\n",
              "      <td>[]</td>\n",
              "      <td>RT @TimRunsHisMouth: If you still can't figure...</td>\n",
              "    </tr>\n",
              "    <tr>\n",
              "      <th>3</th>\n",
              "      <td>RT @KLF: BIDEN tonight: “The Green New Deal is...</td>\n",
              "      <td>0</td>\n",
              "      <td>3365</td>\n",
              "      <td>2020-09-30 05:11:33+00:00</td>\n",
              "      <td>24</td>\n",
              "      <td>5</td>\n",
              "      <td>[]</td>\n",
              "      <td>RT @KLF: BIDEN tonight: “The Green New Deal is...</td>\n",
              "    </tr>\n",
              "    <tr>\n",
              "      <th>4</th>\n",
              "      <td>RT @RealSaavedra: Biden has repeatedly failed ...</td>\n",
              "      <td>0</td>\n",
              "      <td>2471</td>\n",
              "      <td>2020-09-30 05:11:02+00:00</td>\n",
              "      <td>20</td>\n",
              "      <td>5</td>\n",
              "      <td>[]</td>\n",
              "      <td>RT @RealSaavedra: Biden has repeatedly failed ...</td>\n",
              "    </tr>\n",
              "    <tr>\n",
              "      <th>...</th>\n",
              "      <td>...</td>\n",
              "      <td>...</td>\n",
              "      <td>...</td>\n",
              "      <td>...</td>\n",
              "      <td>...</td>\n",
              "      <td>...</td>\n",
              "      <td>...</td>\n",
              "      <td>...</td>\n",
              "    </tr>\n",
              "    <tr>\n",
              "      <th>145</th>\n",
              "      <td>For years you had a President who apologized f...</td>\n",
              "      <td>114586</td>\n",
              "      <td>28271</td>\n",
              "      <td>2020-09-27 01:26:24+00:00</td>\n",
              "      <td>52</td>\n",
              "      <td>1</td>\n",
              "      <td>[]</td>\n",
              "      <td>For years you had a President who apologized f...</td>\n",
              "    </tr>\n",
              "    <tr>\n",
              "      <th>146</th>\n",
              "      <td>Together, we are taking back our Country. We a...</td>\n",
              "      <td>49225</td>\n",
              "      <td>13489</td>\n",
              "      <td>2020-09-27 01:23:23+00:00</td>\n",
              "      <td>52</td>\n",
              "      <td>1</td>\n",
              "      <td>[]</td>\n",
              "      <td>Together, we are taking back our Country. We a...</td>\n",
              "    </tr>\n",
              "    <tr>\n",
              "      <th>147</th>\n",
              "      <td>In just 3 and a half years, we have secured Am...</td>\n",
              "      <td>71294</td>\n",
              "      <td>16653</td>\n",
              "      <td>2020-09-27 01:12:59+00:00</td>\n",
              "      <td>43</td>\n",
              "      <td>1</td>\n",
              "      <td>[MAGA]</td>\n",
              "      <td>In just 3 and a half years, we have secured Am...</td>\n",
              "    </tr>\n",
              "    <tr>\n",
              "      <th>148</th>\n",
              "      <td>THANK YOU PENNSYLVANIA!\\nhttps://t.co/uQwRIKTPFN</td>\n",
              "      <td>57731</td>\n",
              "      <td>12810</td>\n",
              "      <td>2020-09-27 01:07:31+00:00</td>\n",
              "      <td>4</td>\n",
              "      <td>1</td>\n",
              "      <td>[]</td>\n",
              "      <td>THANK YOU PENNSYLVANIA!\\n</td>\n",
              "    </tr>\n",
              "    <tr>\n",
              "      <th>149</th>\n",
              "      <td>https://t.co/gfRMOu2zVM</td>\n",
              "      <td>96014</td>\n",
              "      <td>23273</td>\n",
              "      <td>2020-09-26 21:41:16+00:00</td>\n",
              "      <td>1</td>\n",
              "      <td>21</td>\n",
              "      <td>[]</td>\n",
              "      <td></td>\n",
              "    </tr>\n",
              "  </tbody>\n",
              "</table>\n",
              "<p>150 rows × 8 columns</p>\n",
              "</div>"
            ],
            "text/plain": [
              "                                                  Text  ...                                        without URL\n",
              "0    RT @DarrellIssa: Tonight, Joe Biden made it cl...  ...  RT @DarrellIssa: Tonight, Joe Biden made it cl...\n",
              "1    RT @GaryCoby: “Joe Biden will smile in your fa...  ...  RT @GaryCoby: “Joe Biden will smile in your fa...\n",
              "2    RT @TimRunsHisMouth: If you still can't figure...  ...  RT @TimRunsHisMouth: If you still can't figure...\n",
              "3    RT @KLF: BIDEN tonight: “The Green New Deal is...  ...  RT @KLF: BIDEN tonight: “The Green New Deal is...\n",
              "4    RT @RealSaavedra: Biden has repeatedly failed ...  ...  RT @RealSaavedra: Biden has repeatedly failed ...\n",
              "..                                                 ...  ...                                                ...\n",
              "145  For years you had a President who apologized f...  ...  For years you had a President who apologized f...\n",
              "146  Together, we are taking back our Country. We a...  ...  Together, we are taking back our Country. We a...\n",
              "147  In just 3 and a half years, we have secured Am...  ...  In just 3 and a half years, we have secured Am...\n",
              "148   THANK YOU PENNSYLVANIA!\\nhttps://t.co/uQwRIKTPFN  ...                          THANK YOU PENNSYLVANIA!\\n\n",
              "149                            https://t.co/gfRMOu2zVM  ...                                                   \n",
              "\n",
              "[150 rows x 8 columns]"
            ]
          },
          "metadata": {
            "tags": []
          },
          "execution_count": 15
        }
      ]
    },
    {
      "cell_type": "markdown",
      "metadata": {
        "id": "IYUHbjADA4Pj"
      },
      "source": [
        "**Task 10**: Remove all retweets ('RT') from the DataFrame and display the resulting DataFrame."
      ]
    },
    {
      "cell_type": "code",
      "metadata": {
        "id": "gRUU8QyuitTp",
        "outputId": "70c8f8ed-6e30-43a7-c1ea-2ebece965fa8",
        "colab": {
          "base_uri": "https://localhost:8080/",
          "height": 586
        }
      },
      "source": [
        "og_tweet_df = tweet_df[~tweet_df.Text.str.contains(\"RT\")]\n",
        "og_tweet_df"
      ],
      "execution_count": 16,
      "outputs": [
        {
          "output_type": "execute_result",
          "data": {
            "text/html": [
              "<div>\n",
              "<style scoped>\n",
              "    .dataframe tbody tr th:only-of-type {\n",
              "        vertical-align: middle;\n",
              "    }\n",
              "\n",
              "    .dataframe tbody tr th {\n",
              "        vertical-align: top;\n",
              "    }\n",
              "\n",
              "    .dataframe thead th {\n",
              "        text-align: right;\n",
              "    }\n",
              "</style>\n",
              "<table border=\"1\" class=\"dataframe\">\n",
              "  <thead>\n",
              "    <tr style=\"text-align: right;\">\n",
              "      <th></th>\n",
              "      <th>Text</th>\n",
              "      <th>Favorite Count</th>\n",
              "      <th>Retweet Count</th>\n",
              "      <th>Created At</th>\n",
              "      <th>Length</th>\n",
              "      <th>Hour</th>\n",
              "      <th>Hashtags</th>\n",
              "      <th>without URL</th>\n",
              "    </tr>\n",
              "  </thead>\n",
              "  <tbody>\n",
              "    <tr>\n",
              "      <th>12</th>\n",
              "      <td>https://t.co/HUSFkHqsyC</td>\n",
              "      <td>130147</td>\n",
              "      <td>33916</td>\n",
              "      <td>2020-09-30 03:57:50+00:00</td>\n",
              "      <td>1</td>\n",
              "      <td>3</td>\n",
              "      <td>[]</td>\n",
              "      <td></td>\n",
              "    </tr>\n",
              "    <tr>\n",
              "      <th>15</th>\n",
              "      <td>https://t.co/58ssX7EfUj</td>\n",
              "      <td>43076</td>\n",
              "      <td>13801</td>\n",
              "      <td>2020-09-30 02:35:11+00:00</td>\n",
              "      <td>1</td>\n",
              "      <td>2</td>\n",
              "      <td>[]</td>\n",
              "      <td></td>\n",
              "    </tr>\n",
              "    <tr>\n",
              "      <th>16</th>\n",
              "      <td>Volunteer to be a Trump Election Poll Watcher....</td>\n",
              "      <td>32770</td>\n",
              "      <td>10171</td>\n",
              "      <td>2020-09-30 02:30:39+00:00</td>\n",
              "      <td>13</td>\n",
              "      <td>2</td>\n",
              "      <td>[MakeAmericaGreatAgain]</td>\n",
              "      <td>Volunteer to be a Trump Election Poll Watcher....</td>\n",
              "    </tr>\n",
              "    <tr>\n",
              "      <th>17</th>\n",
              "      <td>https://t.co/gsFSgh2KPc</td>\n",
              "      <td>28488</td>\n",
              "      <td>7365</td>\n",
              "      <td>2020-09-30 02:27:50+00:00</td>\n",
              "      <td>1</td>\n",
              "      <td>2</td>\n",
              "      <td>[]</td>\n",
              "      <td></td>\n",
              "    </tr>\n",
              "    <tr>\n",
              "      <th>18</th>\n",
              "      <td>“EPA: One Trillion Trees Initiative will build...</td>\n",
              "      <td>24403</td>\n",
              "      <td>7289</td>\n",
              "      <td>2020-09-30 02:26:18+00:00</td>\n",
              "      <td>13</td>\n",
              "      <td>2</td>\n",
              "      <td>[]</td>\n",
              "      <td>“EPA: One Trillion Trees Initiative will build...</td>\n",
              "    </tr>\n",
              "    <tr>\n",
              "      <th>...</th>\n",
              "      <td>...</td>\n",
              "      <td>...</td>\n",
              "      <td>...</td>\n",
              "      <td>...</td>\n",
              "      <td>...</td>\n",
              "      <td>...</td>\n",
              "      <td>...</td>\n",
              "      <td>...</td>\n",
              "    </tr>\n",
              "    <tr>\n",
              "      <th>145</th>\n",
              "      <td>For years you had a President who apologized f...</td>\n",
              "      <td>114586</td>\n",
              "      <td>28271</td>\n",
              "      <td>2020-09-27 01:26:24+00:00</td>\n",
              "      <td>52</td>\n",
              "      <td>1</td>\n",
              "      <td>[]</td>\n",
              "      <td>For years you had a President who apologized f...</td>\n",
              "    </tr>\n",
              "    <tr>\n",
              "      <th>146</th>\n",
              "      <td>Together, we are taking back our Country. We a...</td>\n",
              "      <td>49225</td>\n",
              "      <td>13489</td>\n",
              "      <td>2020-09-27 01:23:23+00:00</td>\n",
              "      <td>52</td>\n",
              "      <td>1</td>\n",
              "      <td>[]</td>\n",
              "      <td>Together, we are taking back our Country. We a...</td>\n",
              "    </tr>\n",
              "    <tr>\n",
              "      <th>147</th>\n",
              "      <td>In just 3 and a half years, we have secured Am...</td>\n",
              "      <td>71294</td>\n",
              "      <td>16653</td>\n",
              "      <td>2020-09-27 01:12:59+00:00</td>\n",
              "      <td>43</td>\n",
              "      <td>1</td>\n",
              "      <td>[MAGA]</td>\n",
              "      <td>In just 3 and a half years, we have secured Am...</td>\n",
              "    </tr>\n",
              "    <tr>\n",
              "      <th>148</th>\n",
              "      <td>THANK YOU PENNSYLVANIA!\\nhttps://t.co/uQwRIKTPFN</td>\n",
              "      <td>57731</td>\n",
              "      <td>12810</td>\n",
              "      <td>2020-09-27 01:07:31+00:00</td>\n",
              "      <td>4</td>\n",
              "      <td>1</td>\n",
              "      <td>[]</td>\n",
              "      <td>THANK YOU PENNSYLVANIA!\\n</td>\n",
              "    </tr>\n",
              "    <tr>\n",
              "      <th>149</th>\n",
              "      <td>https://t.co/gfRMOu2zVM</td>\n",
              "      <td>96014</td>\n",
              "      <td>23273</td>\n",
              "      <td>2020-09-26 21:41:16+00:00</td>\n",
              "      <td>1</td>\n",
              "      <td>21</td>\n",
              "      <td>[]</td>\n",
              "      <td></td>\n",
              "    </tr>\n",
              "  </tbody>\n",
              "</table>\n",
              "<p>73 rows × 8 columns</p>\n",
              "</div>"
            ],
            "text/plain": [
              "                                                  Text  ...                                        without URL\n",
              "12                             https://t.co/HUSFkHqsyC  ...                                                   \n",
              "15                             https://t.co/58ssX7EfUj  ...                                                   \n",
              "16   Volunteer to be a Trump Election Poll Watcher....  ...  Volunteer to be a Trump Election Poll Watcher....\n",
              "17                             https://t.co/gsFSgh2KPc  ...                                                   \n",
              "18   “EPA: One Trillion Trees Initiative will build...  ...  “EPA: One Trillion Trees Initiative will build...\n",
              "..                                                 ...  ...                                                ...\n",
              "145  For years you had a President who apologized f...  ...  For years you had a President who apologized f...\n",
              "146  Together, we are taking back our Country. We a...  ...  Together, we are taking back our Country. We a...\n",
              "147  In just 3 and a half years, we have secured Am...  ...  In just 3 and a half years, we have secured Am...\n",
              "148   THANK YOU PENNSYLVANIA!\\nhttps://t.co/uQwRIKTPFN  ...                          THANK YOU PENNSYLVANIA!\\n\n",
              "149                            https://t.co/gfRMOu2zVM  ...                                                   \n",
              "\n",
              "[73 rows x 8 columns]"
            ]
          },
          "metadata": {
            "tags": []
          },
          "execution_count": 16
        }
      ]
    }
  ]
}